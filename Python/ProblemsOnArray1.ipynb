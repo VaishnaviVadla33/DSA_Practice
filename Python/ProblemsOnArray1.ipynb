{
 "cells": [
  {
   "cell_type": "markdown",
   "id": "a99d7a06",
   "metadata": {},
   "source": [
    "Finding min and max element in any array\n",
    "---------"
   ]
  },
  {
   "cell_type": "code",
   "execution_count": 1,
   "id": "939c8895",
   "metadata": {},
   "outputs": [],
   "source": [
    "class Solution:\n",
    "    def get_min_max(self, arr):\n",
    "        max1=arr[0]\n",
    "        min1=arr[0]\n",
    "        for i in range(0,len(arr)):\n",
    "            if min1 > arr[i]:\n",
    "                min1 =arr[i]\n",
    "            elif max1 < arr[i]:\n",
    "                max1 = arr[i]\n",
    "        return min1 , max1\n",
    "    "
   ]
  },
  {
   "cell_type": "code",
   "execution_count": 2,
   "id": "348ecfe6",
   "metadata": {},
   "outputs": [
    {
     "data": {
      "text/plain": [
       "([2, 2], [9, 3])"
      ]
     },
     "execution_count": 2,
     "metadata": {},
     "output_type": "execute_result"
    }
   ],
   "source": [
    "def get_min_max(arr):\n",
    "    max1=[arr[0],0]\n",
    "    min1=[arr[0],0]\n",
    "    for i in range(0,len(arr)):\n",
    "        if min1[0] > arr[i]:\n",
    "            min1 =[arr[i],i]\n",
    "        elif max1[0] < arr[i]:\n",
    "            max1 = [arr[i],i]\n",
    "    return min1 , max1\n",
    "\n",
    "l=[4,8,2,9,6]\n",
    "get_min_max(l)"
   ]
  },
  {
   "cell_type": "markdown",
   "id": "3174e42c",
   "metadata": {},
   "source": [
    "Finding second highest max and min\n",
    "-------------"
   ]
  },
  {
   "cell_type": "code",
   "execution_count": 1,
   "id": "673c3902",
   "metadata": {},
   "outputs": [
    {
     "name": "stdout",
     "output_type": "stream",
     "text": [
      "9 8\n"
     ]
    }
   ],
   "source": [
    "#Sir Code\n",
    "a = [3,2,8,9,5,4,6]\n",
    "if len(a) <2:\n",
    "    print(f'max value is {a[0]}, second max is -1')\n",
    "else:\n",
    "    if a[0] < a[1]:\n",
    "        max = a[1]\n",
    "        Smax = a[0]\n",
    "    elif a[0]>a[1]:\n",
    "        Smax = a[1]\n",
    "        max = a[0]\n",
    "    else:\n",
    "        max = a[0]\n",
    "        Smax = -1\n",
    "    for i in range(2,len(a)):\n",
    "        if a[i] > max:\n",
    "            Smax  = max\n",
    "            max = a[i]\n",
    "        elif a[i] > Smax and a[i] != max:\n",
    "            Smax = a[i]\n",
    "    print(max,Smax)\n"
   ]
  },
  {
   "cell_type": "markdown",
   "id": "589320d0",
   "metadata": {},
   "source": [
    "Rotate Array\n",
    "--------------------"
   ]
  },
  {
   "cell_type": "code",
   "execution_count": 4,
   "id": "ee80d946",
   "metadata": {},
   "outputs": [
    {
     "data": {
      "text/plain": [
       "[6, 4, 8, 2, 9]"
      ]
     },
     "execution_count": 4,
     "metadata": {},
     "output_type": "execute_result"
    }
   ],
   "source": [
    "#Using Shift\n",
    "def rotate(arr):\n",
    "    temp=arr[-1]\n",
    "    for i in range(len(arr)-1,0,-1):\n",
    "        arr[i]=arr[i-1]\n",
    "    arr[0]=temp\n",
    "    return arr\n",
    "\n",
    "l=[4,8,2,9,6]\n",
    "rotate(l)"
   ]
  },
  {
   "cell_type": "code",
   "execution_count": 5,
   "id": "d24f9ec0",
   "metadata": {},
   "outputs": [
    {
     "data": {
      "text/plain": [
       "[6, 4, 8, 2, 9]"
      ]
     },
     "execution_count": 5,
     "metadata": {},
     "output_type": "execute_result"
    }
   ],
   "source": [
    "#Other Method- Using swap\n",
    "def rotate(arr):\n",
    "    i=0\n",
    "    j=len(arr)-1\n",
    "    while i != j:\n",
    "        arr[i],arr[j]=arr[j],arr[i]\n",
    "        i+=1\n",
    "    return arr\n",
    "\n",
    "l=[4,8,2,9,6]\n",
    "rotate(l)\n",
    "\n",
    "#Time Complexity - O(n)"
   ]
  },
  {
   "cell_type": "markdown",
   "id": "fe8d778a",
   "metadata": {},
   "source": [
    "Rotate element by k elements\n",
    "-------------"
   ]
  },
  {
   "cell_type": "code",
   "execution_count": 6,
   "id": "188b7fd8",
   "metadata": {},
   "outputs": [],
   "source": [
    "#(clockwise) #To rotate 1 array\n",
    "# def rotate(arr):\n",
    "#     temp=arr[0]\n",
    "#     for i in range(0,len(arr)-1):\n",
    "#         arr[i]=arr[i+1]\n",
    "#     arr[-1]=temp\n",
    "#     return arr\n",
    "\n",
    "# l=[1,2,3,4,5,6,7]\n",
    "# rotate(l)\n",
    "\n",
    "#Time Complexity - O(n)"
   ]
  },
  {
   "cell_type": "code",
   "execution_count": 7,
   "id": "3a62b9fd",
   "metadata": {},
   "outputs": [
    {
     "data": {
      "text/plain": [
       "[4, 5, 6, 7, 1, 2, 3]"
      ]
     },
     "execution_count": 7,
     "metadata": {},
     "output_type": "execute_result"
    }
   ],
   "source": [
    "#To rotate by k elemnsts\n",
    "def rotate(arr,d):\n",
    "    while d!=0:\n",
    "        temp=arr[0]\n",
    "        for i in range(0,len(arr)-1):\n",
    "            arr[i]=arr[i+1]\n",
    "        arr[-1]=temp\n",
    "        d-=1\n",
    "    return arr\n",
    "\n",
    "l=[1,2,3,4,5,6,7]\n",
    "rotate(l,3)\n",
    "\n",
    "#Time Complexity - O(n*d)"
   ]
  },
  {
   "cell_type": "code",
   "execution_count": 8,
   "id": "2ed1fdc3",
   "metadata": {},
   "outputs": [
    {
     "name": "stdout",
     "output_type": "stream",
     "text": [
      "[4, 5, 6, 7, 1, 2, 3]\n"
     ]
    }
   ],
   "source": [
    "#Other Method (optimized)- to rotate by k elemnsts\n",
    "def reverseArray1(a,i,j):\n",
    "    while i<j:\n",
    "        a[i],a[j]=a[j],a[i]\n",
    "        i=i+1\n",
    "        j=j-1\n",
    "    \n",
    "def rotateArr2(a,d):\n",
    "    d= d % len(a)\n",
    "    reverseArray1(a,0,d-1)\n",
    "    reverseArray1(a,d,len(a)-1)\n",
    "    reverseArray1(a,0,len(a)-1)\n",
    "\n",
    "l=[1,2,3,4,5,6,7]\n",
    "rotateArr2(l,3)  \n",
    "print(l)  \n",
    "#Time Complexity - O(n)"
   ]
  },
  {
   "cell_type": "markdown",
   "id": "50d8b8f8",
   "metadata": {},
   "source": [
    "Reverse array\n",
    "-------------------"
   ]
  },
  {
   "cell_type": "code",
   "execution_count": 9,
   "id": "2b2daa8b",
   "metadata": {},
   "outputs": [
    {
     "data": {
      "text/plain": [
       "[5, 4, 3, 2, 1]"
      ]
     },
     "execution_count": 9,
     "metadata": {},
     "output_type": "execute_result"
    }
   ],
   "source": [
    "def reverse(arr):\n",
    "    i=0\n",
    "    j=len(arr)-1\n",
    "    while i<j:\n",
    "        arr[i],arr[j]=arr[j],arr[i]\n",
    "        i+=1\n",
    "        j-=1\n",
    "    return arr\n",
    "\n",
    "l=[1,2,3,4,5]\n",
    "reverse(l)\n",
    "\n",
    "# TC -> O(n/2)=O(n)"
   ]
  },
  {
   "cell_type": "markdown",
   "id": "42ad40a5",
   "metadata": {},
   "source": [
    "Equilibrium point- sum of all element before and after a particular point is same, then return value of that point\n",
    "---------------"
   ]
  },
  {
   "cell_type": "code",
   "execution_count": 15,
   "id": "f12115f4",
   "metadata": {},
   "outputs": [
    {
     "data": {
      "text/plain": [
       "3"
      ]
     },
     "execution_count": 15,
     "metadata": {},
     "output_type": "execute_result"
    }
   ],
   "source": [
    "def equilibrim(arr):\n",
    "    sum=0\n",
    "    for i in range(len(arr)):\n",
    "        sum=sum+arr[i]\n",
    "\n",
    "    leftsum=0\n",
    "    for i in range(len(arr)):\n",
    "        if leftsum == (sum-leftsum-arr[i]):\n",
    "            return i\n",
    "        leftsum=leftsum+arr[i]\n",
    "    return -1\n",
    "l=[2,1,3,1,4,2]\n",
    "equilibrim(l)\n",
    "            "
   ]
  }
 ],
 "metadata": {
  "kernelspec": {
   "display_name": "Python 3",
   "language": "python",
   "name": "python3"
  },
  "language_info": {
   "codemirror_mode": {
    "name": "ipython",
    "version": 3
   },
   "file_extension": ".py",
   "mimetype": "text/x-python",
   "name": "python",
   "nbconvert_exporter": "python",
   "pygments_lexer": "ipython3",
   "version": "3.11.3"
  }
 },
 "nbformat": 4,
 "nbformat_minor": 5
}
