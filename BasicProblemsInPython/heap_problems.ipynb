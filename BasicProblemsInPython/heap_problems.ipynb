{
 "cells": [
  {
   "cell_type": "markdown",
   "id": "46b15034",
   "metadata": {},
   "source": [
    "# Heap\n",
    "----------"
   ]
  },
  {
   "cell_type": "markdown",
   "metadata": {},
   "source": [
    "Building Max Heap\n",
    "---"
   ]
  },
  {
   "cell_type": "code",
   "execution_count": null,
   "id": "d35e52d3",
   "metadata": {},
   "outputs": [
    {
     "name": "stdout",
     "output_type": "stream",
     "text": [
      "[11, 9, 9, 3, 8, 4, 6, 2, 2, 5, 6, 2, 1, 5, 0]\n"
     ]
    }
   ],
   "source": [
    "def heapifyTopDown(a,i): #Time Complexity= O(logn)\n",
    "    temp=i \n",
    "    N=len(a)\n",
    "    leftChild=2*i +1\n",
    "    rightChild=2*i+2\n",
    "\n",
    "    if leftChild < N and a[leftChild] > a[i]:\n",
    "        i=leftChild\n",
    "    if rightChild < N and a[rightChild] > a[i]:\n",
    "        i=rightChild\n",
    "    if temp!=i:\n",
    "        a[i],a[temp] =a[temp],a[i]\n",
    "        heapifyTopDown(a,i)\n",
    "\n",
    "def buildMaxHeap(a):\n",
    "    LastnonLeaf=(len(a)//2) -1\n",
    "    for i in range(LastnonLeaf,-1,-1):\n",
    "        heapifyTopDown(a,i)\n",
    "\n",
    "\n",
    "a=[3,5,4,2,8,1,6,9,2,11,6,2,9,5,0]\n",
    "buildMaxHeap(a)\n",
    "print(a)"
   ]
  },
  {
   "cell_type": "markdown",
   "id": "a3ccd1dd",
   "metadata": {},
   "source": [
    "Building Min Heap\n",
    "---------"
   ]
  },
  {
   "cell_type": "code",
   "execution_count": 26,
   "id": "9cdf342e",
   "metadata": {},
   "outputs": [
    {
     "name": "stdout",
     "output_type": "stream",
     "text": [
      "[0, 2, 1, 2, 6, 2, 4, 9, 5, 11, 8, 3, 9, 5, 6]\n"
     ]
    }
   ],
   "source": [
    "def heapifyTopDown(a,i): #Time Complexity= O(logn)\n",
    "    temp=i \n",
    "    N=len(a)\n",
    "    leftChild=2*i +1\n",
    "    rightChild=2*i+2\n",
    "\n",
    "    if leftChild<N and a[leftChild] < a[i]:\n",
    "        i=leftChild\n",
    "    if rightChild<N and a[rightChild] < a[i]:\n",
    "        i=rightChild\n",
    "    if temp!=i:\n",
    "        a[i],a[temp] =a[temp],a[i]\n",
    "        heapifyTopDown(a,i)\n",
    "\n",
    "def buildMaxHeap(a):\n",
    "    LastnonLeaf=(len(a)//2) -1\n",
    "    for i in range(LastnonLeaf,-1,-1):\n",
    "        heapifyTopDown(a,i)\n",
    "\n",
    "\n",
    "a=[3,5,4,2,8,1,6,9,2,11,6,2,9,5,0]\n",
    "buildMaxHeap(a)\n",
    "print(a)"
   ]
  },
  {
   "cell_type": "markdown",
   "metadata": {},
   "source": [
    "Deletion and Insertion in Max Heap\n",
    "-----------"
   ]
  },
  {
   "cell_type": "code",
   "execution_count": 27,
   "metadata": {},
   "outputs": [
    {
     "name": "stdout",
     "output_type": "stream",
     "text": [
      "[11, 9, 9, 3, 8, 4, 6, 2, 2, 5, 6, 2, 1, 5, 0]\n",
      "[50, 11, 9, 9, 8, 4, 6, 3, 2, 5, 6, 2, 1, 5, 0, 2]\n"
     ]
    }
   ],
   "source": [
    "def heapifyTopDown(a,i): #Time Complexity= O(logn)\n",
    "    temp=i \n",
    "    N=len(a)\n",
    "    leftChild=2*i +1\n",
    "    rightChild=2*i+2\n",
    "\n",
    "    if leftChild<N and a[leftChild] > a[i]:\n",
    "        i=leftChild\n",
    "    if rightChild<N and a[rightChild] > a[i]:\n",
    "        i=rightChild\n",
    "    if temp!=i:\n",
    "        a[i],a[temp] =a[temp],a[i]\n",
    "        heapifyTopDown(a,i)\n",
    "\n",
    "def buildMaxHeap(a):\n",
    "    LastnonLeaf=(len(a)//2) -1\n",
    "    for i in range(LastnonLeaf,-1,-1):\n",
    "        heapifyTopDown(a,i)\n",
    "\n",
    "def HeapDeletion(a):\n",
    "    if len(a)==0:\n",
    "        return 0\n",
    "    temp=a[0]\n",
    "    a[0]=a[-1]\n",
    "    heapifyTopDown(a,0)\n",
    "    return temp\n",
    "\n",
    "#--------------------------------------------------\n",
    "\n",
    "def HeapInsertion(a,val): #Alternate for building heap and uses bottom up apprach, TC--->O(logn)\n",
    "    a.append(val)\n",
    "    i= len(a)-1\n",
    "    while i>0:\n",
    "        parent=(i-1)//2\n",
    "        if a[parent]< a[i]:\n",
    "            a[parent],a[i]=a[i],a[parent]\n",
    "            i=parent\n",
    "        else:\n",
    "            break\n",
    "\n",
    "\n",
    "\n",
    "a=[3,5,4,2,8,1,6,9,2,11,6,2,9,5,0]\n",
    "buildMaxHeap(a)\n",
    "print(a)\n",
    "HeapInsertion(a,50)\n",
    "print(a)"
   ]
  },
  {
   "cell_type": "markdown",
   "metadata": {},
   "source": [
    "HeapSort\n",
    "----------"
   ]
  },
  {
   "cell_type": "markdown",
   "metadata": {},
   "source": [
    "Using Extra Space(other datastructure to store values)"
   ]
  },
  {
   "cell_type": "code",
   "execution_count": 30,
   "metadata": {},
   "outputs": [
    {
     "name": "stdout",
     "output_type": "stream",
     "text": [
      "[11, 9, 9, 3, 8, 4, 6, 2, 2, 5, 6, 2, 1, 5, 0]\n",
      "[11, 9, 9, 8, 6, 6, 5, 5, 4, 3, 2, 2, 2, 1, 0]\n",
      "[]\n"
     ]
    }
   ],
   "source": [
    "\n",
    "#------------------New functons\n",
    "def heapifyTopDown1(a,i): #Time Complexity= O(logn)\n",
    "    temp=i \n",
    "    N=len(a)\n",
    "    leftChild=2*i +1\n",
    "    rightChild=2*i+2\n",
    "\n",
    "    if leftChild<N and a[leftChild] > a[i]:\n",
    "        i=leftChild\n",
    "    if rightChild<N and a[rightChild] > a[i]:\n",
    "        i=rightChild\n",
    "    if temp!=i:\n",
    "        a[i],a[temp] =a[temp],a[i]\n",
    "        heapifyTopDown1(a,i)\n",
    "\n",
    "#-------------------------------------------------\n",
    "def HeapDeletion1(a):\n",
    "    if len(a)==0:\n",
    "        return 0\n",
    "    temp=a[0]\n",
    "    a[0]=a[-1]\n",
    "    a.pop()\n",
    "    heapifyTopDown1(a, 0)\n",
    "    return temp\n",
    "\n",
    "\n",
    "a=[3,5,4,2,8,1,6,9,2,11,6,2,9,5,0]\n",
    "buildMaxHeap(a)\n",
    "print(a)\n",
    "\n",
    "x=[]\n",
    "while len(a) > 0:\n",
    "    k=HeapDeletion1(a)\n",
    "    x.append(k)\n",
    "    #print(\"Appended elemnet is:\",k)\n",
    "print(x)\n",
    "print(a)"
   ]
  },
  {
   "cell_type": "markdown",
   "metadata": {},
   "source": [
    "Witthout Using Extra Space"
   ]
  },
  {
   "cell_type": "code",
   "execution_count": null,
   "metadata": {},
   "outputs": [
    {
     "name": "stdout",
     "output_type": "stream",
     "text": [
      "[11, 9, 9, 3, 8, 4, 6, 2, 2, 5, 6, 2, 1, 5, 0]\n",
      "[0, 1, 2, 2, 2, 3, 4, 5, 5, 6, 6, 8, 9, 9, 11]\n"
     ]
    }
   ],
   "source": [
    "#------------------New functions\n",
    "def heapifyTopDown1(a,n,i): #Time Complexity= O(logn)\n",
    "    temp=i \n",
    "    N=n\n",
    "    leftChild=2*i +1\n",
    "    rightChild=2*i+2\n",
    "\n",
    "    if leftChild<N and a[leftChild] > a[i]:\n",
    "        i=leftChild\n",
    "    if rightChild<N and a[rightChild] > a[i]:\n",
    "        i=rightChild\n",
    "    if temp!=i:\n",
    "        a[i],a[temp] =a[temp],a[i]\n",
    "        heapifyTopDown1(a,n,i)\n",
    "\n",
    "#-------------------------------------------------\n",
    "\n",
    "def HeapDeletion1(a,n):\n",
    "    if len(a)==0:\n",
    "        return None\n",
    "    temp=a[0]\n",
    "    a[0]=a[n-1]\n",
    "    heapifyTopDown1(a,n,0)\n",
    "    return temp\n",
    "#-------------------------------------------\n",
    "def buildMaxHeap1(a):\n",
    "    LastnonLeaf=(len(a)//2) -1\n",
    "    for i in range(LastnonLeaf,-1,-1):\n",
    "        heapifyTopDown1(a,len(a),i)\n",
    "\n",
    "#--------------------------------------------------\n",
    "\n",
    "def HeapSort(a):\n",
    "    buildMaxHeap1(a)\n",
    "    for i in range(len(a),0,-1):\n",
    "        k= HeapDeletion1(a,i)\n",
    "        #print(k)\n",
    "        a[i-1]=k\n",
    "\n",
    "\n",
    "a=[3,5,4,2,8,1,6,9,2,11,6,2,9,5,0]\n",
    "buildMaxHeap1(a)\n",
    "print(a)\n",
    "HeapSort(a)\n",
    "print(a)"
   ]
  },
  {
   "cell_type": "markdown",
   "id": "ccac9de3",
   "metadata": {},
   "source": [
    "Builtin Heap\n",
    "---------"
   ]
  },
  {
   "cell_type": "code",
   "execution_count": 31,
   "id": "4c69cc5c",
   "metadata": {},
   "outputs": [
    {
     "name": "stdout",
     "output_type": "stream",
     "text": [
      "[0, 2, 1, 2, 6, 2, 4, 9, 5, 11, 8, 3, 9, 5, 6]\n",
      "[-12, 0, 1, 2, 6, 2, 4, 2, 5, 11, 8, 3, 9, 5, 6, 9]\n",
      "[0, 2, 1, 2, 6, 2, 4, 9, 5, 11, 8, 3, 9, 5, 6]\n"
     ]
    }
   ],
   "source": [
    "import heapq\n",
    "\n",
    "l=[3,5,4,2,8,1,6,9,2,11,6,2,9,5,0]\n",
    "heapq.heapify(l)\n",
    "print(l)\n",
    "heapq.heappush(l,-12)\n",
    "print(l)\n",
    "heapq.heappop(l)\n",
    "print(l)"
   ]
  },
  {
   "cell_type": "markdown",
   "id": "d9d74ace",
   "metadata": {},
   "source": [
    "kth largest number\n",
    "-------"
   ]
  },
  {
   "cell_type": "code",
   "execution_count": null,
   "id": "915ad675",
   "metadata": {},
   "outputs": [],
   "source": [
    "def KthlargestNumber(a,k):\n",
    "    pass # pending\n",
    "a=[1,6,9,2,0,8,4,6]"
   ]
  },
  {
   "cell_type": "markdown",
   "id": "6b4850d5",
   "metadata": {},
   "source": [
    "Kth Smallest number\n",
    "------"
   ]
  },
  {
   "cell_type": "code",
   "execution_count": null,
   "id": "b1b8848a",
   "metadata": {},
   "outputs": [],
   "source": [
    "class Solution:\n",
    "    \n",
    "    def heapifyTopDown(self,a,i): #Time Complexity= O(logn)\n",
    "        temp=i \n",
    "        N=len(a)\n",
    "        leftChild=2*i +1\n",
    "        rightChild=2*i+2\n",
    "    \n",
    "        if leftChild<N and a[leftChild] > a[i]:\n",
    "            i=leftChild\n",
    "        if rightChild<N and a[rightChild] > a[i]:\n",
    "            i=rightChild\n",
    "        if temp!=i:\n",
    "            a[i],a[temp] =a[temp],a[i]\n",
    "            self.heapifyTopDown(a,i)\n",
    "    \n",
    "    def buildMaxHeap(self,a):\n",
    "        LastnonLeaf=(len(a)//2) -1\n",
    "        for i in range(LastnonLeaf,-1,-1):\n",
    "            self.heapifyTopDown(a,i)\n",
    "    \n",
    "    def HeapDeletion(self,a):\n",
    "        if len(a)==0:\n",
    "            return 0\n",
    "        temp=a[0]\n",
    "        a[0]=a[-1]\n",
    "        a.pop()\n",
    "        self.heapifyTopDown(a,0)\n",
    "        return temp\n",
    "    \n",
    "    \n",
    "    def HeapInsertion(self,a,val): #Alternate for building heap and uses bottom up apprach, TC--->O(logn)\n",
    "        a.append(val)\n",
    "        i= len(a)-1\n",
    "        while i>0:\n",
    "            parent=(i-1)//2\n",
    "            if a[parent]< a[i]:\n",
    "                a[parent],a[i]=a[i],a[parent]\n",
    "                i=parent\n",
    "            else:\n",
    "                break\n",
    "    \n",
    "\n",
    "    def kthSmallest(self,arr,k):\n",
    "        heap=[arr[0]]\n",
    "        for i in range(1,len(arr)):\n",
    "            self.HeapInsertion(heap,arr[i])\n",
    "            if len(heap)>k:\n",
    "                self.HeapDeletion(heap)\n",
    "        return heap[0]\n"
   ]
  },
  {
   "cell_type": "markdown",
   "id": "fc46e96a",
   "metadata": {},
   "source": [
    "Check for max heap\n",
    "------------"
   ]
  },
  {
   "cell_type": "code",
   "execution_count": null,
   "id": "16082082",
   "metadata": {},
   "outputs": [],
   "source": []
  },
  {
   "cell_type": "code",
   "execution_count": 38,
   "id": "15b12ebe",
   "metadata": {},
   "outputs": [
    {
     "data": {
      "text/plain": [
       "True"
      ]
     },
     "execution_count": 38,
     "metadata": {},
     "output_type": "execute_result"
    }
   ],
   "source": [
    "a=[11,9,9,3,8,4,6,2,2,5,6,2,1,5,0]\n",
    "\n",
    "def checkMaxheap(a):\n",
    "    n = len(a)\n",
    "    for i in range((n // 2)):\n",
    "        left = 2 * i + 1\n",
    "        right = 2 * i + 2\n",
    "        if left < n and a[left] > a[i]:\n",
    "            return False\n",
    "        if right < n and a[right] > a[i]:\n",
    "            return False\n",
    "    return True\n",
    "\n",
    "checkMaxheap(a)\n",
    "    "
   ]
  },
  {
   "cell_type": "code",
   "execution_count": null,
   "id": "e284ca58",
   "metadata": {},
   "outputs": [],
   "source": []
  }
 ],
 "metadata": {
  "kernelspec": {
   "display_name": "Python 3",
   "language": "python",
   "name": "python3"
  },
  "language_info": {
   "codemirror_mode": {
    "name": "ipython",
    "version": 3
   },
   "file_extension": ".py",
   "mimetype": "text/x-python",
   "name": "python",
   "nbconvert_exporter": "python",
   "pygments_lexer": "ipython3",
   "version": "3.11.3"
  }
 },
 "nbformat": 4,
 "nbformat_minor": 5
}
