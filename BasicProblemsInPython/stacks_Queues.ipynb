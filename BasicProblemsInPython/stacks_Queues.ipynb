{
 "cells": [
  {
   "cell_type": "markdown",
   "id": "4dc4a99e",
   "metadata": {},
   "source": [
    "# <----- QUEUES ----->"
   ]
  },
  {
   "cell_type": "code",
   "execution_count": 2,
   "id": "1f80877a",
   "metadata": {},
   "outputs": [
    {
     "name": "stdout",
     "output_type": "stream",
     "text": [
      "deque([1, 2, 3, 4, 5])\n",
      "deque([2, 3, 4, 5])\n"
     ]
    }
   ],
   "source": [
    "from collections import deque\n",
    "\n",
    "q=deque()\n",
    "q.append(1)\n",
    "q.append(2)\n",
    "q.append(3)\n",
    "q.append(4)\n",
    "q.append(5)\n",
    "\n",
    "print(q)\n",
    "q.popleft() #Delete first element and TC--->O(1)\n",
    "print(q)"
   ]
  },
  {
   "cell_type": "code",
   "execution_count": 3,
   "id": "a44c32cd",
   "metadata": {},
   "outputs": [
    {
     "name": "stdout",
     "output_type": "stream",
     "text": [
      "[1, 2, 3, 4, 5]\n",
      "[2, 3, 4, 5]\n"
     ]
    }
   ],
   "source": [
    "#Another way to implement queue\n",
    "queue=[]\n",
    "queue.append(1)\n",
    "queue.append(2)\n",
    "queue.append(3)\n",
    "queue.append(4)\n",
    "queue.append(5)\n",
    "\n",
    "print(queue)\n",
    "queue.pop(0) # We use pop(0) to delete first element\n",
    "#Delete first element and TC--->O(n)\n",
    "print(queue)\n"
   ]
  },
  {
   "cell_type": "markdown",
   "id": "e6ae8efa",
   "metadata": {},
   "source": [
    "# <----- STACKS ----->"
   ]
  },
  {
   "cell_type": "code",
   "execution_count": 4,
   "id": "5e4a442d",
   "metadata": {},
   "outputs": [
    {
     "name": "stdout",
     "output_type": "stream",
     "text": [
      "deque([1, 2, 3, 4, 5])\n",
      "deque([1, 2, 3, 4])\n"
     ]
    }
   ],
   "source": [
    "from collections import deque\n",
    "\n",
    "q=deque()\n",
    "q.append(1)\n",
    "q.append(2)\n",
    "q.append(3)\n",
    "q.append(4)\n",
    "q.append(5)\n",
    "\n",
    "print(q)\n",
    "q.pop() #Delete last element and TC--->O(1)\n",
    "print(q)"
   ]
  },
  {
   "cell_type": "code",
   "execution_count": 5,
   "id": "71db2c50",
   "metadata": {},
   "outputs": [
    {
     "name": "stdout",
     "output_type": "stream",
     "text": [
      "[1, 2, 3, 4, 5]\n",
      "[2, 3, 4, 5]\n"
     ]
    }
   ],
   "source": [
    "#Another way to implement queue\n",
    "queue=[]\n",
    "queue.append(1)\n",
    "queue.append(2)\n",
    "queue.append(3)\n",
    "queue.append(4)\n",
    "queue.append(5)\n",
    "\n",
    "print(queue)\n",
    "queue.pop(0) # We use pop(0) to delete first element\n",
    "#Delete first element and TC--->O(n)\n",
    "print(queue)"
   ]
  },
  {
   "cell_type": "markdown",
   "id": "705ae280",
   "metadata": {},
   "source": [
    "Valid Paranthesis\n",
    "-------------"
   ]
  },
  {
   "cell_type": "code",
   "execution_count": 6,
   "id": "5cb91234",
   "metadata": {},
   "outputs": [
    {
     "name": "stdout",
     "output_type": "stream",
     "text": [
      "False\n"
     ]
    }
   ],
   "source": [
    "# using stack\n",
    "\n",
    "def validparanthesis(s):\n",
    "    st=[]\n",
    "    i=0\n",
    "    while i < len(s):\n",
    "        if s[i] =='(' or s[i]=='{' or s[i]=='[':\n",
    "            st.append(s[i])\n",
    "        elif len(st)==0:\n",
    "            return False\n",
    "        elif (s[i] =='}' and st[-1]=='{') or (s[i] ==')' and st[-1]=='(') or (s[i] ==']' and st[-1]=='[') :\n",
    "            st.pop()\n",
    "            return False\n",
    "        else:\n",
    "            return False\n",
    "        i+=1\n",
    "    return len(st)==0\n",
    "\n",
    "s='{()[([])]}'\n",
    "print(validparanthesis(s))"
   ]
  },
  {
   "cell_type": "markdown",
   "id": "d0019725",
   "metadata": {},
   "source": [
    "Evaluate Postfix Expression\n",
    "---------"
   ]
  },
  {
   "cell_type": "markdown",
   "id": "9c736423",
   "metadata": {},
   "source": [
    "Input: arr = [\"2\", \"3\", \"1\", \"*\", \"+\", \"9\", \"-\"]\n",
    "\n",
    "Output: -4"
   ]
  },
  {
   "cell_type": "code",
   "execution_count": 7,
   "id": "6c6b3799",
   "metadata": {},
   "outputs": [
    {
     "name": "stdout",
     "output_type": "stream",
     "text": [
      "49\n",
      "57\n"
     ]
    }
   ],
   "source": [
    "print(ord('1'))\n",
    "print(ord('9'))"
   ]
  },
  {
   "cell_type": "code",
   "execution_count": 8,
   "id": "3e3692e9",
   "metadata": {},
   "outputs": [
    {
     "name": "stdout",
     "output_type": "stream",
     "text": [
      "1\n"
     ]
    }
   ],
   "source": [
    "l=['1']\n",
    "print(int(l[0]))"
   ]
  },
  {
   "cell_type": "code",
   "execution_count": 9,
   "id": "b46f5a2c",
   "metadata": {},
   "outputs": [
    {
     "name": "stdout",
     "output_type": "stream",
     "text": [
      "[229]\n"
     ]
    }
   ],
   "source": [
    "arr = [\"238\",\"-9\",\"+\"]\n",
    "arr1=[\"2\",\"3\",\"+\"]\n",
    "\n",
    "def PostfixExpression(arr1):\n",
    "    st=[]\n",
    "    i=0\n",
    "    while i< len(arr1):\n",
    "        if arr1[i]== '+':\n",
    "            a = st.pop()\n",
    "            b = st.pop()\n",
    "            c= b+a  # b+a is different from a+b, considering if numbers are negative, then \n",
    "            st.append(c)\n",
    "        elif arr1[i]== '-':\n",
    "            a = st.pop()\n",
    "            b = st.pop()\n",
    "            c= b-a  \n",
    "            st.append(c)\n",
    "        elif arr1[i]== '*':\n",
    "            a = st.pop()\n",
    "            b = st.pop()\n",
    "            c= b*a  \n",
    "            st.append(c)\n",
    "        elif arr1[i]== '/':\n",
    "            a = st.pop()\n",
    "            b = st.pop()\n",
    "            c= b/a  \n",
    "            st.append(c)    \n",
    "        else:\n",
    "            st.append(int(arr1[i]))\n",
    "        i=i+1\n",
    "    return st\n",
    "\n",
    "print(PostfixExpression(arr))\n"
   ]
  },
  {
   "cell_type": "markdown",
   "id": "e50f8c6f",
   "metadata": {},
   "source": [
    "Infix to Prefix\n",
    "-------"
   ]
  },
  {
   "cell_type": "code",
   "execution_count": 10,
   "id": "d6bd413e",
   "metadata": {},
   "outputs": [],
   "source": [
    "#Pending"
   ]
  },
  {
   "cell_type": "markdown",
   "id": "74878fe4",
   "metadata": {},
   "source": [
    "Making a Queue using 2 stacks\n",
    "------------"
   ]
  },
  {
   "cell_type": "code",
   "execution_count": 11,
   "id": "a86d5d07",
   "metadata": {},
   "outputs": [
    {
     "name": "stdout",
     "output_type": "stream",
     "text": [
      "[1, 2, 3, 4]\n",
      "1\n",
      "[2, 3, 4]\n",
      "Queue Size is:  3\n",
      "False\n",
      "2\n"
     ]
    }
   ],
   "source": [
    "class Queue:\n",
    "    def __init__(self):\n",
    "        self.stack1=[]  #Using only these operations, stack.pop(),stack.append(),stack[-1], len()\n",
    "        self.stack2=[]\n",
    "    def QueuePop(self): # O(n)\n",
    "        if len(self.stack1)==0:\n",
    "            return -1\n",
    "        else:\n",
    "            while len(self.stack1)>=1:\n",
    "                self.stack2.append(self.stack1.pop())\n",
    "            a = self.stack2.pop()\n",
    "            while len(self.stack2):\n",
    "                self.stack1.append(self.stack2.pop())\n",
    "        return a\n",
    "        \n",
    "    def QueueTop(self):\n",
    "        while len(self.stack1) != 1:\n",
    "            self.stack2.append(self.stack1.pop())\n",
    "        a = self.stack1[-1]\n",
    "        self.stack2.append(self.stack1.pop())\n",
    "       \n",
    "        while len(self.stack2):\n",
    "            self.stack1.append(self.stack2.pop())\n",
    "        return a\n",
    "    def QueuePush(self,a): # O(1)\n",
    "        self.stack1.append(a)\n",
    "    def QueueisEmpty(self):\n",
    "        return len(self.stack1) == 0\n",
    "    def QueueSize(self):\n",
    "        return len(self.stack1)\n",
    "\n",
    "q=Queue()    \n",
    "q.QueuePush(1)\n",
    "q.QueuePush(2)\n",
    "q.QueuePush(3)\n",
    "q.QueuePush(4)\n",
    "print(q.stack1)\n",
    "print(q.QueuePop())\n",
    "print(q.stack1)\n",
    "print(\"Queue Size is: \",q.QueueSize())\n",
    "print(q.QueueisEmpty())\n",
    "print(q.QueueTop())"
   ]
  },
  {
   "cell_type": "markdown",
   "id": "addebf9e",
   "metadata": {},
   "source": [
    "Decreasing time complexity of above pop function from o(n) to o(1)\n",
    "---------"
   ]
  },
  {
   "cell_type": "code",
   "execution_count": 12,
   "id": "401bcede",
   "metadata": {},
   "outputs": [
    {
     "name": "stdout",
     "output_type": "stream",
     "text": [
      "1\n",
      "2\n"
     ]
    }
   ],
   "source": [
    "class Queue:\n",
    "    def __init__(self):\n",
    "        self.stack1=[]  #Using only these operations, stack.pop(),stack.append(),stack[-1], len()\n",
    "        self.stack2=[]\n",
    "    def QueuePop(self): # O(1)\n",
    "        return self.stack1.pop()\n",
    "        \n",
    "    def QueueTop(self):\n",
    "        while len(self.stack1) != 1:\n",
    "            self.stack2.append(self.stack1.pop())\n",
    "        a = self.stack1[-1]\n",
    "        self.stack2.append(self.stack1.pop())\n",
    "       \n",
    "        while len(self.stack2):\n",
    "            self.stack1.append(self.stack2.pop())\n",
    "        return a\n",
    "    def QueuePush(self,a): # O(n)\n",
    "        if len(self.stack1)==0:\n",
    "                self.stack1.append(a)\n",
    "        else:\n",
    "            while len(self.stack1)>=1:\n",
    "                self.stack2.append(self.stack1.pop())\n",
    "            self.stack1.append(a)\n",
    "            while len(self.stack2)>=1:\n",
    "                self.stack1.append(self.stack2.pop())\n",
    "                \n",
    "    def QueueisEmpty(self):\n",
    "        return len(self.stack1) == 0\n",
    "    def QueueSize(self):\n",
    "        return len(self.stack1)\n",
    "\n",
    "q=Queue()    \n",
    "q.QueuePush(1)\n",
    "q.QueuePush(2)\n",
    "q.QueuePush(3)\n",
    "q.QueuePush(4)\n",
    "print(q.QueuePop())\n",
    "print(q.QueuePop())\n",
    "#print(q.QueueTop)\n"
   ]
  },
  {
   "cell_type": "markdown",
   "id": "9b5bc4a5",
   "metadata": {},
   "source": [
    "Implementing Stack using queue\n",
    "--------"
   ]
  },
  {
   "cell_type": "code",
   "execution_count": 13,
   "id": "e2ac93fe",
   "metadata": {},
   "outputs": [
    {
     "name": "stdout",
     "output_type": "stream",
     "text": [
      "3\n",
      "5\n"
     ]
    }
   ],
   "source": [
    "from queue import Queue\n",
    "q=Queue()\n",
    "q.put(3)\n",
    "q.put(5)\n",
    "q.put(9)\n",
    "\n",
    "print(q.get())\n",
    "print(q.get()) #Remove and return "
   ]
  },
  {
   "cell_type": "code",
   "execution_count": 14,
   "id": "f798785f",
   "metadata": {},
   "outputs": [
    {
     "name": "stdout",
     "output_type": "stream",
     "text": [
      "3\n"
     ]
    }
   ],
   "source": [
    "from queue import Queue\n",
    "q1=Queue()\n",
    "q2=Queue()\n",
    "def push(a):\n",
    "    q1.put(a)\n",
    "def pop():\n",
    "    while q1.qsize()>1:\n",
    "        q2.put(q1.get())\n",
    "    a=q1.get()\n",
    "    while q2.qsize()>=1:\n",
    "        q1.put(q2.get())\n",
    "    return a\n",
    "\n",
    "push(1)\n",
    "push(2)\n",
    "push(3)\n",
    "print(pop())"
   ]
  },
  {
   "cell_type": "code",
   "execution_count": null,
   "id": "70709948",
   "metadata": {},
   "outputs": [
    {
     "name": "stdout",
     "output_type": "stream",
     "text": [
      "2\n"
     ]
    }
   ],
   "source": [
    "class stack:\n",
    "    def __init__(self):\n",
    "        self.queue1=[]\n",
    "        self.queue2=[]\n",
    "    def push(self,a):\n",
    "        self.queue1.append(a)\n",
    "    def pop(self):\n",
    "        while len(self.queue1)!=1:\n",
    "            self.queue2.append(self.queue1.pop(0))  # O(n)\n",
    "        result= self.queue1.pop(0)\n",
    "        self.queue1,self.queue2=self.queue2,self.queue1\n",
    "        return result\n",
    "s= stack()\n",
    "s.push(4)\n",
    "s.push(3)\n",
    "s.push(2)\n",
    "print(pop())\n",
    "    "
   ]
  },
  {
   "cell_type": "code",
   "execution_count": null,
   "id": "1489d898",
   "metadata": {},
   "outputs": [],
   "source": []
  }
 ],
 "metadata": {
  "kernelspec": {
   "display_name": "Python 3",
   "language": "python",
   "name": "python3"
  },
  "language_info": {
   "codemirror_mode": {
    "name": "ipython",
    "version": 3
   },
   "file_extension": ".py",
   "mimetype": "text/x-python",
   "name": "python",
   "nbconvert_exporter": "python",
   "pygments_lexer": "ipython3",
   "version": "3.11.3"
  }
 },
 "nbformat": 4,
 "nbformat_minor": 5
}
