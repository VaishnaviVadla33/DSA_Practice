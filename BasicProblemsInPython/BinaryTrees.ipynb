{
 "cells": [
  {
   "cell_type": "markdown",
   "id": "4abf8d7f",
   "metadata": {},
   "source": [
    "# Binary trees"
   ]
  },
  {
   "cell_type": "code",
   "execution_count": null,
   "id": "9a45056a",
   "metadata": {},
   "outputs": [
    {
     "name": "stdout",
     "output_type": "stream",
     "text": [
      "None\n"
     ]
    }
   ],
   "source": [
    "class TreeNode:\n",
    "    def __init__(self,a):\n",
    "        self.data = a\n",
    "        self.left = None\n",
    "        self.right = None\n",
    "\n",
    "#=================================================\n",
    "\n",
    "def countNodes(root):\n",
    "   if root == None :\n",
    "       return 0\n",
    "   else:\n",
    "       return 1+ countNodes(root.left)+countNodes(root.right)\n",
    "   \n",
    "#=================================================\n",
    "   \n",
    "def CountLeafNodes(root):\n",
    "    if root==None:\n",
    "        return 0\n",
    "    if root.left == None and root.right == None:\n",
    "        return 1\n",
    "    else:\n",
    "        return CountLeafNodes(root.left)+CountLeafNodes(root.right)\n",
    "\n",
    "#=================================================\n",
    "\n",
    "def CountNonLeafNodes(root):\n",
    "    if root==None:\n",
    "        return 0\n",
    "    if root.left == None and root.right == None:\n",
    "        return 0\n",
    "    else:\n",
    "        return 1+ CountNonLeafNodes(root.left) + CountNonLeafNodes(root.right)\n",
    "\n",
    "#=================================================\n",
    "\n",
    "def CountNodesWithTwoNodes(root):\n",
    "    if root==None:\n",
    "        return 0\n",
    "    if root.left != None and root.right != None:\n",
    "        return 1+ CountNodesWithTwoNodes(root.left) + CountNodesWithTwoNodes(root.right)\n",
    "    else:\n",
    "        return CountNodesWithTwoNodes(root.left) + CountNodesWithTwoNodes(root.right)\n",
    "\n",
    "#=================================================\n",
    "\n",
    "def HeightOftree(root):\n",
    "    if root==None:\n",
    "        return 0\n",
    "    # elif root.left == None and root.right== None:\n",
    "    #     return 0\n",
    "    else:\n",
    "        return 1+ max(HeightOftree(root.left),HeightOftree(root.right))\n",
    "\n",
    "#=================================================\n",
    "\n",
    "def Halfnodes(root):\n",
    "    if root== None:\n",
    "        return 0\n",
    "    elif root.left==None and root.right==None:\n",
    "        return 0\n",
    "    elif root.left==None and root.right!=None:\n",
    "        return 1+ Halfnodes(root.right)\n",
    "    elif root.left!=None and root.right==None:\n",
    "        return 1+Halfnodes(root.left)\n",
    "    else:\n",
    "        return Halfnodes(root.left)+Halfnodes(root.right)  \n",
    "\n",
    "#=================================================\n",
    "\n",
    "def SearchElement(root,val):\n",
    "    if root == None and root.data != val:\n",
    "        return False\n",
    "    if root.data == val:\n",
    "        return True or SearchElement(root.left,val) or SearchElement(root.right, val)\n",
    "\n",
    "#=================================================\n",
    "\n",
    "def sumOfNodes(root):\n",
    "   if root == None :\n",
    "       return 0\n",
    "   else:\n",
    "       return root.data + sumOfNodes(root.left)+sumOfNodes(root.right)    \n",
    "\n",
    "#=================================================\n",
    "\n",
    "root = TreeNode(4)\n",
    "root.left = TreeNode(2)\n",
    "root.right = TreeNode(3)\n",
    "root.left.left = TreeNode(6)\n",
    "root.left.right = TreeNode(7)\n",
    "root.left.left.left = TreeNode(3)\n",
    "#root.left.left.right = TreeNode(3)\n",
    "\n",
    "root.right.right = TreeNode(2)\n",
    "root.right.left = TreeNode(9)\n",
    "root.right.right = TreeNode(2)\n",
    "root.right.right.left = TreeNode(1)\n",
    "root.right.right.left.left = TreeNode(7)\n",
    "\n",
    "root.right.right.left.right = TreeNode(8)\n",
    "\n",
    "#print(countNodes(root))\n",
    "#print(CountLeafNodes(root))\n",
    "#print(CountNonLeafNodes(root))\n",
    "#print(CountNodesWithTwoNodes(root))\n",
    "#print(HeightOftree(root))\n",
    "#print(Halfnodes(root))\n",
    "print(SearchElement(root,1))\n",
    "#print(sumOfNodes(root))\n"
   ]
  },
  {
   "cell_type": "markdown",
   "id": "abb75e9c",
   "metadata": {},
   "source": [
    "Traversals\n",
    "---------------"
   ]
  },
  {
   "cell_type": "code",
   "execution_count": null,
   "id": "6c36a345",
   "metadata": {},
   "outputs": [
    {
     "name": "stdout",
     "output_type": "stream",
     "text": [
      "5 6 2 7 4 9 3 7 1 8 2  \n",
      "5 6 7 2 9 7 8 1 2 3 4  \n",
      "4 2 6 5 7 3 9 2 1 7 8  \n",
      "4 2 3 6 7 9 2 5 1 7 8 "
     ]
    }
   ],
   "source": [
    "class TreeNode:\n",
    "    def __init__(self,a):\n",
    "        self.data = a\n",
    "        self.left = None\n",
    "        self.right = None\n",
    "\n",
    "\n",
    "def PreOrder(root):\n",
    "    if root==None:\n",
    "        return \n",
    "    print(root.data, end=\" \")\n",
    "    PreOrder(root.left)\n",
    "    PreOrder(root.right)\n",
    "\n",
    "def PostOrder(root):\n",
    "    if root== None:\n",
    "        return\n",
    "    PostOrder(root.left)\n",
    "    PostOrder(root.right)\n",
    "    print(root.data, end=\" \")\n",
    "\n",
    "def Inorder(root):\n",
    "    if root == None:\n",
    "        return\n",
    "    Inorder(root.left)\n",
    "    print(root.data,end=\" \")\n",
    "    Inorder(root.right)\n",
    "\n",
    "def levelOrder(root):\n",
    "    q=[]\n",
    "    q.append(root)\n",
    "    while q:\n",
    "        temp=q.pop(0)\n",
    "        print(temp.data, end=\" \")\n",
    "        if temp.left:\n",
    "            q.append(temp.left)\n",
    "        if temp.right:\n",
    "            q.append(temp.right)\n",
    "\n",
    "\n",
    "\n",
    "root = TreeNode(4)\n",
    "root.left = TreeNode(2)\n",
    "root.right = TreeNode(3)\n",
    "root.left.left = TreeNode(6)\n",
    "root.left.right = TreeNode(7)\n",
    "root.left.left.left = TreeNode(5)\n",
    "root.right.right = TreeNode(2)\n",
    "root.right.left = TreeNode(9)\n",
    "root.right.right = TreeNode(2)\n",
    "root.right.right.left = TreeNode(1)\n",
    "root.right.right.left.left = TreeNode(7)\n",
    "root.right.right.left.right = TreeNode(8)\n",
    "\n",
    "Inorder(root)\n",
    "print(\" \")\n",
    "PostOrder(root)\n",
    "print(\" \")\n",
    "PreOrder(root)\n",
    "print(\" \")\n",
    "levelOrder(root)"
   ]
  },
  {
   "cell_type": "code",
   "execution_count": null,
   "id": "93aabd80",
   "metadata": {},
   "outputs": [
    {
     "name": "stdout",
     "output_type": "stream",
     "text": [
      "[4]\n",
      "[3, 2]\n",
      "[6, 7, 9, 2]\n",
      "[1, 3]\n",
      "[8]\n"
     ]
    }
   ],
   "source": [
    "def printNodesAtgivenLevel(root,level,arr):\n",
    "    if root == None:\n",
    "        return\n",
    "    if level == 1:\n",
    "        arr.append(root.data)\n",
    "    printNodesAtgivenLevel(root.left,level-1,arr)\n",
    "    printNodesAtgivenLevel(root.right,level-1,arr)\n",
    "\n",
    "def height(root):\n",
    "    if root == None:\n",
    "        return 0\n",
    "    return 1 + max(height(root.left) , height(root.right))\n",
    "root = TreeNode(4)\n",
    "root.left = TreeNode(2)\n",
    "root.right = TreeNode(3)\n",
    "root.left.left = TreeNode(6)\n",
    "root.left.right = TreeNode(7)\n",
    "root.left.left.left = TreeNode(3)\n",
    "\n",
    "\n",
    "root.right.right = TreeNode(2)\n",
    "root.right.left = TreeNode(9)\n",
    "root.right.right.left = TreeNode(1)\n",
    "root.right.right.left.right = TreeNode(8)\n",
    "levels = height(root)\n",
    "\n",
    "for i in range(1,levels+1):\n",
    "    a = []\n",
    "    printNodesAtgivenLevel(root,i,a)\n",
    "    if i%2 == 0:\n",
    "        a = a[::-1]\n",
    "        print(a)\n",
    "    else:\n",
    "        print(a)\n",
    "       \n",
    "# printNodesAtgivenLevel(root,3)\n",
    "\n",
    "\n",
    "\n"
   ]
  },
  {
   "cell_type": "code",
   "execution_count": 43,
   "id": "1b5b5765",
   "metadata": {},
   "outputs": [
    {
     "name": "stdout",
     "output_type": "stream",
     "text": [
      "4\n",
      "1\n",
      "2\n"
     ]
    }
   ],
   "source": [
    "l1=[1,2,4]\n",
    "print(l1.pop())\n",
    "print(l1.pop(0))\n",
    "print(l1.pop())"
   ]
  },
  {
   "cell_type": "code",
   "execution_count": null,
   "id": "bc1dbb91",
   "metadata": {},
   "outputs": [],
   "source": [
    "class TreeNode:\n",
    "    def __init__(self,a):\n",
    "        self.data = a\n",
    "        self.left = None\n",
    "        self.right = None\n",
    "\n",
    "root = TreeNode(4)\n",
    "root.left = TreeNode(2)\n",
    "root.right = TreeNode(3)\n",
    "root.left.left = TreeNode(6)\n",
    "root.left.right = TreeNode(7)\n",
    "root.left.left.left = TreeNode(5)\n",
    "root.right.right = TreeNode(2)\n",
    "root.right.left = TreeNode(9)\n",
    "root.right.right.left = TreeNode(1)\n",
    "root.right.right.left.left = TreeNode(7)\n",
    "root.right.right.left.right = TreeNode(8)\n",
    "\n",
    "def zigzag(root):\n",
    "    l=[]\n",
    "    l.append(root)\n",
    "    i=1\n",
    "    while l:\n",
    "        if i%2!=0:\n",
    "            x=l.pop()\n",
    "            print(x.data,end=\" \")\n",
    "            "
   ]
  },
  {
   "cell_type": "markdown",
   "id": "5df4a2d7",
   "metadata": {},
   "source": [
    "Given two binary trees with their root nodes r1 and r2, return true if both of them are identical, otherwise, false.\n",
    "-----\n"
   ]
  },
  {
   "cell_type": "code",
   "execution_count": 48,
   "id": "d832dcd0",
   "metadata": {},
   "outputs": [
    {
     "name": "stdout",
     "output_type": "stream",
     "text": [
      "None\n"
     ]
    }
   ],
   "source": [
    "class Node:\n",
    "    def __init__(self, val):\n",
    "        self.right = None\n",
    "        self.data = val\n",
    "        self.left = None\n",
    "\n",
    "def IdenticalTrees(r1,r2):\n",
    "    l1=[]\n",
    "    l2=[]\n",
    "    if r1==None and r2==None:\n",
    "        return True\n",
    "    if r1==None or r2==None:\n",
    "        return False\n",
    "    else:\n",
    "        IdenticalTrees(r1.left,r2.left)\n",
    "        l1.append(r1.data)\n",
    "        l2.append(r2.data)\n",
    "        IdenticalTrees(r1.right,r2.right)\n",
    "\n",
    "        if len(l1)== len(l2):\n",
    "            for i in range(len(l1)):\n",
    "                if l1[i]!=l2[i]:\n",
    "                    return False\n",
    "        else:\n",
    "            return False\n",
    "    \n",
    "root1 = Node(1)\n",
    "root1.left = Node(2)\n",
    "root1.right = Node(3)\n",
    "\n",
    "root2 = Node(1)\n",
    "root2.left = Node(2)\n",
    "root2.right = Node(3)\n",
    "\n",
    "print(IdenticalTrees(root1,root2))"
   ]
  },
  {
   "cell_type": "code",
   "execution_count": 57,
   "id": "1f53e664",
   "metadata": {},
   "outputs": [
    {
     "name": "stdout",
     "output_type": "stream",
     "text": [
      "False\n"
     ]
    }
   ],
   "source": [
    "#Sir Approach\n",
    "class Node:\n",
    "    def __init__(self, val):\n",
    "        self.right = None\n",
    "        self.data = val\n",
    "        self.left = None\n",
    "\n",
    "def isIdentical(r1, r2):\n",
    "        if r1==None and r2==None:\n",
    "            return True\n",
    "        if r1==None or r2==None:\n",
    "            return False\n",
    "        return (r1.data == r2.data ) \\\n",
    "        and isIdentical(r1.left,r2.left) \\\n",
    "        and isIdentical(r1.right,r2.right)\n",
    "    \n",
    "root1 = Node(1)\n",
    "root1.left = Node(2)\n",
    "root1.right = Node(3)\n",
    "\n",
    "root2 = Node(1)\n",
    "root2.left = Node(2)\n",
    "root2.right = Node(7)\n",
    "\n",
    "print(isIdentical(root1,root2))"
   ]
  },
  {
   "cell_type": "markdown",
   "id": "f693b405",
   "metadata": {},
   "source": [
    "Mirror Problem\n",
    "-------"
   ]
  },
  {
   "cell_type": "code",
   "execution_count": 59,
   "id": "45d19f83",
   "metadata": {},
   "outputs": [
    {
     "name": "stdout",
     "output_type": "stream",
     "text": [
      "False\n"
     ]
    }
   ],
   "source": [
    "#Sir Approach\n",
    "class Node:\n",
    "    def __init__(self, val):\n",
    "        self.right = None\n",
    "        self.data = val\n",
    "        self.left = None\n",
    "\n",
    "def Mirror(r1, r2):\n",
    "        if r1==None and r2==None:\n",
    "            return True\n",
    "        if r1==None or r2==None:\n",
    "            return False\n",
    "        return (r1.data == r2.data ) \\\n",
    "        and Mirror(r1.left,r2.right) \\\n",
    "        and Mirror(r1.right,r2.left)\n",
    "    \n",
    "root1 = Node(1)\n",
    "root1.left = Node(2)\n",
    "root1.right = Node(3)\n",
    "\n",
    "root2 = Node(1)\n",
    "root2.left = Node(3)\n",
    "root2.right = Node(1)\n",
    "\n",
    "print(Mirror(root1,root2))"
   ]
  },
  {
   "cell_type": "markdown",
   "id": "89b75928",
   "metadata": {},
   "source": [
    "Isomorphic trees\n",
    "-------"
   ]
  },
  {
   "cell_type": "code",
   "execution_count": null,
   "id": "346c7d08",
   "metadata": {},
   "outputs": [
    {
     "name": "stdout",
     "output_type": "stream",
     "text": [
      "True\n"
     ]
    }
   ],
   "source": [
    "class Node:\n",
    "    def __init__(self, val):\n",
    "        self.right = None\n",
    "        self.data = val\n",
    "        self.left = None\n",
    "\n",
    "def isomorphic(r1, r2):\n",
    "        if r1==None and r2==None:\n",
    "            return True\n",
    "        if r1==None or r2==None:\n",
    "            return False\n",
    "        return ((r1.data == r2.data ) \\\n",
    "        and isomorphic(r1.left,r2.right) \\\n",
    "        and isomorphic(r1.right,r2.left)) \\\n",
    "        or ((r1.data == r2.data ) \\\n",
    "        and isomorphic(r1.left,r2.left) \\\n",
    "        and isomorphic(r1.right,r2.right) )\n",
    "    \n",
    "root1 = Node(1)\n",
    "root1.left = Node(2)\n",
    "root1.right = Node(3)\n",
    "\n",
    "root2 = Node(1)\n",
    "root2.left = Node(3)\n",
    "root2.right = Node(2)\n",
    "\n",
    "print(isomorphic(root1,root2))"
   ]
  },
  {
   "cell_type": "markdown",
   "id": "7aa66842",
   "metadata": {},
   "source": [
    "Diameter of a tree\n",
    "---------\n",
    "Longest path between lowest leaf\n"
   ]
  },
  {
   "cell_type": "code",
   "execution_count": null,
   "id": "9146a209",
   "metadata": {},
   "outputs": [
    {
     "name": "stdout",
     "output_type": "stream",
     "text": [
      "6\n"
     ]
    }
   ],
   "source": [
    "def height1(root):\n",
    "    if root== None:\n",
    "        return 0\n",
    "    return 1+ max(height1(root.left), height1(root.right))\n",
    "\n",
    "\n",
    "def diameterFromRoot(root):\n",
    "    if root == None:\n",
    "        return 0\n",
    "    return max(height1(root.left)+ height1(root.right),max(diameterFromRoot(root.left),diameterFromRoot(root.right)))\n",
    "\n",
    "root=TreeNode(1)\n",
    "root.left=TreeNode(2)\n",
    "root.right=TreeNode(3)\n",
    "root.left.left=TreeNode(4)\n",
    "root.left.left.left=TreeNode(6)\n",
    "root.left.left.left.left=TreeNode(8)\n",
    "root.left.right=TreeNode(5)\n",
    "root.left.right.right=TreeNode(7)\n",
    "root.left.right.right.right=TreeNode(9)\n",
    "\n",
    "print(diameterFromRoot(root))\n",
    "\n",
    "# TC-->O(n2)"
   ]
  },
  {
   "cell_type": "markdown",
   "id": "68663531",
   "metadata": {},
   "source": [
    "Optimized Code"
   ]
  },
  {
   "cell_type": "code",
   "execution_count": 70,
   "id": "9910f8e1",
   "metadata": {},
   "outputs": [
    {
     "name": "stdout",
     "output_type": "stream",
     "text": [
      "6\n"
     ]
    }
   ],
   "source": [
    "def height1(root,a):\n",
    "    if root== None:\n",
    "        return 0\n",
    "    leftheight=height1(root.left,a)\n",
    "    rightheight=height1(root.right,a)\n",
    "    a[0]=max(a[0],leftheight+rightheight)\n",
    "    return 1+ max(leftheight,rightheight)\n",
    "\n",
    "\n",
    "def diameterFromRoot(root):\n",
    "    a=[-1]\n",
    "    height1(root,a)\n",
    "    return a[0]\n",
    "\n",
    "root=TreeNode(1)\n",
    "root.left=TreeNode(2)\n",
    "root.right=TreeNode(3)\n",
    "root.left.left=TreeNode(4)\n",
    "root.left.left.left=TreeNode(6)\n",
    "root.left.left.left.left=TreeNode(8)\n",
    "root.left.right=TreeNode(5)\n",
    "root.left.right.right=TreeNode(7)\n",
    "root.left.right.right.right=TreeNode(9)\n",
    "\n",
    "print(diameterFromRoot(root))\n",
    "\n",
    "# TC-->O(n2)"
   ]
  },
  {
   "cell_type": "markdown",
   "id": "a3ac120a",
   "metadata": {},
   "source": [
    "#  **BINARYTREE** ------------------------------------------------"
   ]
  },
  {
   "cell_type": "markdown",
   "id": "ea4c5383",
   "metadata": {},
   "source": [
    "Search in binary tree\n",
    "-----------"
   ]
  },
  {
   "cell_type": "code",
   "execution_count": 77,
   "id": "105bdb2a",
   "metadata": {},
   "outputs": [
    {
     "name": "stdout",
     "output_type": "stream",
     "text": [
      "1\n"
     ]
    }
   ],
   "source": [
    "def binarySearchTree(root,x):\n",
    "    if root == None:\n",
    "        return 0\n",
    "    if root.data== x:\n",
    "        return 1\n",
    "    elif root.data< x:\n",
    "        return binarySearchTree(root.left,x)\n",
    "    else:\n",
    "        return binarySearchTree(root.right,x)\n",
    "root=TreeNode(1)\n",
    "root.left=TreeNode(2)\n",
    "root.right=TreeNode(3)\n",
    "root.left.left=TreeNode(4)\n",
    "root.left.left.left=TreeNode(6)\n",
    "root.left.left.left.left=TreeNode(8)\n",
    "root.left.right=TreeNode(5)\n",
    "root.left.right.right=TreeNode(7)\n",
    "root.left.right.right.right=TreeNode(9)\n",
    "\n",
    "print(binarySearchTree(root,4))\n",
    "\n",
    "# TC-->O(n2)"
   ]
  },
  {
   "cell_type": "markdown",
   "id": "7d1ded1a",
   "metadata": {},
   "source": [
    "Lowest common ancestor\n",
    "-"
   ]
  },
  {
   "cell_type": "code",
   "execution_count": null,
   "id": "aea2ce0f",
   "metadata": {},
   "outputs": [],
   "source": [
    "def lowestCommonAncestor(root,n1,n2):\n",
    "    if root.data == n1.data or root.data == n2.data:\n",
    "        return root\n",
    "    elif (n1.data<root.data and n2.data>root.data) or (n2.data<root.data and n1.data>root.data):\n",
    "        return root\n",
    "    elif n1.data< root.data and n2.data < root.data:\n",
    "        return lowestCommonAncestor(root.left,n1,n2)\n",
    "    else:\n",
    "        return lowestCommonAncestor(root.right,n1,n2)"
   ]
  },
  {
   "cell_type": "markdown",
   "id": "157fe24a",
   "metadata": {},
   "source": [
    "Kth largest element in BSt\n",
    "-"
   ]
  },
  {
   "cell_type": "code",
   "execution_count": null,
   "id": "61448621",
   "metadata": {},
   "outputs": [],
   "source": [
    "#inorder traversal in bst is sorting in ascending order\n",
    "class Solution:\n",
    "    def inorderTraversal(self,root,k,a):\n",
    "        if root==None:\n",
    "            return \n",
    "        self.inorderTraversal(root.left,k,a)\n",
    "        k[0]=k[0]-1\n",
    "        if k[0]==0:\n",
    "            a[0]=root.data\n",
    "            return\n",
    "        self.inorderTraversal(root.right,k,a)\n",
    "    def kthLargest(self,root, k):\n",
    "        p=[k]\n",
    "        a=[-1]\n",
    "        self.inorderTraversal(root,p,a)\n",
    "        return a[0]"
   ]
  }
 ],
 "metadata": {
  "kernelspec": {
   "display_name": "Python 3",
   "language": "python",
   "name": "python3"
  },
  "language_info": {
   "codemirror_mode": {
    "name": "ipython",
    "version": 3
   },
   "file_extension": ".py",
   "mimetype": "text/x-python",
   "name": "python",
   "nbconvert_exporter": "python",
   "pygments_lexer": "ipython3",
   "version": "3.11.3"
  }
 },
 "nbformat": 4,
 "nbformat_minor": 5
}
