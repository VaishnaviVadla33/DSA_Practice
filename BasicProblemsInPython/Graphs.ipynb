{
 "cells": [
  {
   "cell_type": "markdown",
   "id": "56066153",
   "metadata": {},
   "source": [
    "# **Graphs Implementation**"
   ]
  },
  {
   "cell_type": "code",
   "execution_count": 10,
   "id": "0098806d",
   "metadata": {},
   "outputs": [
    {
     "name": "stdout",
     "output_type": "stream",
     "text": [
      "Total vertices are :  8\n",
      "Total edges are:  8\n"
     ]
    }
   ],
   "source": [
    "class Graph:\n",
    "    def __init__(self):\n",
    "        self.graph1={}\n",
    "    \n",
    "    def addvertices(self,k):\n",
    "        self.graph1[k]=[]\n",
    "\n",
    "    def addEdge(self,a,b):\n",
    "        self.graph1[a].append(b)\n",
    "        self.graph1[b].append(a) # if undirected graph, make sure even we add b to a also\n",
    "\n",
    "    # def printGraphAdjacencyList(self):\n",
    "    #     for  i,j in self.graph1.items():\n",
    "    #         print(i,\"-->\",j)\n",
    "    def printGraph_AdjacencyList(self):\n",
    "        for i in self.graph1:\n",
    "            print(i,\"--->\",self.graph1[i])\n",
    "\n",
    "    def printGraph_AdjacencyMatrix(self):\n",
    "        v=len(self.graph1)\n",
    "        adjmatric=[]\n",
    "        for i in range(v):\n",
    "            adjmatric.append([0]*v)\n",
    "        for i in self.graph1:\n",
    "            for j in self.graph1[i]:\n",
    "                adjmatric[i][j]=1\n",
    "        \n",
    "        for i in adjmatric:\n",
    "            print(i)\n",
    "    def print_Vertex_Edges(self):\n",
    "        print('Total vertices are : ', len(self.graph1))\n",
    "\n",
    "        e=0\n",
    "        for i in self.graph1:\n",
    "            e+=len(self.graph1[i])\n",
    "        print(\"Total edges are: \",e//2)\n",
    "\n",
    "g=Graph()\n",
    "g.addvertices(0)\n",
    "g.addvertices(1)\n",
    "g.addvertices(2)\n",
    "g.addvertices(3)\n",
    "g.addvertices(4)\n",
    "g.addvertices(5)\n",
    "g.addvertices(6)\n",
    "g.addvertices(7)\n",
    "\n",
    "#Adding edges\n",
    "g.addEdge(0,1)\n",
    "g.addEdge(1,2)\n",
    "g.addEdge(2,7)\n",
    "g.addEdge(1,4)\n",
    "g.addEdge(4,3)\n",
    "g.addEdge(3,5)\n",
    "g.addEdge(2,3)\n",
    "g.addEdge(4,6)\n",
    "\n",
    "#g.printGraph_AdjacencyList()\n",
    "#g.printGraph_AdjacencyMatrix()\n",
    "g.print_Vertex_Edges()"
   ]
  },
  {
   "cell_type": "markdown",
   "id": "64b91b96",
   "metadata": {},
   "source": [
    "Weighted Undirected Graphs\n",
    "------------"
   ]
  },
  {
   "cell_type": "code",
   "execution_count": 18,
   "id": "717888fb",
   "metadata": {},
   "outputs": [
    {
     "name": "stdout",
     "output_type": "stream",
     "text": [
      "0 ---> [(1, 11)]\n",
      "1 ---> [(0, 11), (2, 17), (4, 13)]\n",
      "2 ---> [(1, 17), (7, 16), (3, 14)]\n",
      "3 ---> [(4, 12), (5, 15), (2, 14)]\n",
      "4 ---> [(1, 13), (3, 12), (6, 18)]\n",
      "5 ---> [(3, 15)]\n",
      "6 ---> [(4, 18)]\n",
      "7 ---> [(2, 16)]\n",
      "[0, 11, 0, 0, 0, 0, 0, 0]\n",
      "[11, 0, 17, 0, 13, 0, 0, 0]\n",
      "[0, 17, 0, 14, 0, 0, 0, 16]\n",
      "[0, 0, 14, 0, 12, 15, 0, 0]\n",
      "[0, 13, 0, 12, 0, 0, 18, 0]\n",
      "[0, 0, 0, 15, 0, 0, 0, 0]\n",
      "[0, 0, 0, 0, 18, 0, 0, 0]\n",
      "[0, 0, 16, 0, 0, 0, 0, 0]\n"
     ]
    }
   ],
   "source": [
    "class Graph:\n",
    "    def __init__(self):\n",
    "        self.graph1={}\n",
    "    \n",
    "    def addvertices(self,k):\n",
    "        self.graph1[k]=[]\n",
    "\n",
    "    def addEdge(self,a,b,weights):\n",
    "        self.graph1[a].append((b,weights))\n",
    "        self.graph1[b].append((a,weights)) # if undirected graph, make sure even we add b to a also\n",
    "\n",
    "    def printGraph_AdjacencyList(self):\n",
    "        for i in self.graph1:\n",
    "            print(i,\"--->\",self.graph1[i])\n",
    "\n",
    "    def printGraph_AdjacencyMatrix(self):\n",
    "        v=len(self.graph1)\n",
    "        adjmatric=[]\n",
    "        for i in range(v):\n",
    "            adjmatric.append([0]*v)\n",
    "        for i in self.graph1:\n",
    "            for j,weight in self.graph1[i]:\n",
    "                adjmatric[i][j]=weight\n",
    "        \n",
    "        for i in adjmatric:\n",
    "            print(i)\n",
    "\n",
    "\n",
    "g=Graph()\n",
    "g.addvertices(0)\n",
    "g.addvertices(1)\n",
    "g.addvertices(2)\n",
    "g.addvertices(3)\n",
    "g.addvertices(4)\n",
    "g.addvertices(5)\n",
    "g.addvertices(6)\n",
    "g.addvertices(7)\n",
    "\n",
    "#Adding edges\n",
    "g.addEdge(0,1,11)\n",
    "g.addEdge(1,2,17)\n",
    "g.addEdge(2,7,16)\n",
    "g.addEdge(1,4,13)\n",
    "g.addEdge(4,3,12)\n",
    "g.addEdge(3,5,15)\n",
    "g.addEdge(2,3,14)\n",
    "g.addEdge(4,6,18)\n",
    "\n",
    "g.printGraph_AdjacencyList()\n",
    "g.printGraph_AdjacencyMatrix()\n"
   ]
  },
  {
   "cell_type": "markdown",
   "id": "01de3d6e",
   "metadata": {},
   "source": [
    "Level Order Traversal\n",
    "-------"
   ]
  },
  {
   "cell_type": "code",
   "execution_count": 22,
   "id": "baa28acc",
   "metadata": {},
   "outputs": [
    {
     "name": "stdout",
     "output_type": "stream",
     "text": [
      "0 1 2 7 3 4 6 5 "
     ]
    }
   ],
   "source": [
    "class Graph:\n",
    "    def __init__(self):\n",
    "        self.graph1={}\n",
    "    \n",
    "    def addvertices(self,k):\n",
    "        self.graph1[k]=[]\n",
    "\n",
    "    def addEdge(self,a,b,weights):\n",
    "        self.graph1[a].append((b,weights))\n",
    "        self.graph1[b].append((a,weights)) # if undirected graph, make sure even we add b to a also\n",
    "    \n",
    "    def BFS(self,start):\n",
    "        q=[start]\n",
    "        visited=[0]*len(self.graph1)\n",
    "        while q: #while q is not empty\n",
    "            temp=q.pop(0)\n",
    "            if visited[temp]==0:\n",
    "                visited[temp]=1\n",
    "                print(temp,end=\" \")\n",
    "                for neighbour in self.graph1[temp]:\n",
    "                    q.append(neighbour[0])\n",
    "\n",
    "    def DFS(self,start,visited):\n",
    "        if visited[start] !=1:\n",
    "            visited[start]=1\n",
    "            print(start,end=\" \")\n",
    "            for neighbour in self.graph1[start]:\n",
    "                self.DFS(neighbour[0],visited)\n",
    "\n",
    "\n",
    "g=Graph()\n",
    "g.addvertices(0)\n",
    "g.addvertices(1)\n",
    "g.addvertices(2)\n",
    "g.addvertices(3)\n",
    "g.addvertices(4)\n",
    "g.addvertices(5)\n",
    "g.addvertices(6)\n",
    "g.addvertices(7)\n",
    "\n",
    "#Adding edges\n",
    "g.addEdge(0,1,11)\n",
    "g.addEdge(1,2,17)\n",
    "g.addEdge(2,7,16)\n",
    "g.addEdge(1,4,13)\n",
    "g.addEdge(4,3,12)\n",
    "g.addEdge(3,5,15)\n",
    "g.addEdge(2,3,14)\n",
    "g.addEdge(4,6,18)\n",
    "\n",
    "#g.BFS(0)\n",
    "g.DFS(0,[0]*8)"
   ]
  },
  {
   "cell_type": "markdown",
   "id": "65ef56e9",
   "metadata": {},
   "source": [
    "Topological Sort\n",
    "----------"
   ]
  },
  {
   "cell_type": "code",
   "execution_count": null,
   "id": "3ea19dbb",
   "metadata": {},
   "outputs": [],
   "source": [
    "class Solution:\n",
    "    def constructadj(self,V,edges):\n",
    "        adj = [[] for _ in range(V)]\n",
    "        for i in edges:\n",
    "            adj[i[0]].append(i[1])\n",
    "        return adj\n",
    "        \n",
    "    def DFS(self,adj,start,visited,stack):\n",
    "        if visited[start] != 1:\n",
    "            visited[start]=1\n",
    "            for neighbour in adj[start]:\n",
    "                self.DFS(adj,neighbour,visited,stack)\n",
    "            stack.append(start)\n",
    "            \n",
    "    def topoSort(self, V, edges):\n",
    "        adj=self.constructadj(V,edges)\n",
    "        stack=[]\n",
    "        visited=[0]*V\n",
    "        for i in range(V):\n",
    "            if visited[i] != 1:\n",
    "                self.DFS(adj,i,visited,stack)\n",
    "        return stack[::-1]"
   ]
  },
  {
   "cell_type": "markdown",
   "id": "ec65a0ff",
   "metadata": {},
   "source": [
    "Dijasktra Algorithm\n",
    "----------"
   ]
  },
  {
   "cell_type": "code",
   "execution_count": null,
   "id": "a95bb263",
   "metadata": {},
   "outputs": [
    {
     "name": "stdout",
     "output_type": "stream",
     "text": [
      "[0, 4, 8, 10, 10]\n"
     ]
    }
   ],
   "source": [
    "import heapq\n",
    "import sys\n",
    "class Graph:\n",
    "    def __init__(self):\n",
    "        self.graph = {}\n",
    "\n",
    "def constructAdj(edges, V):\n",
    "    adj = [[] for _ in range(V)]\n",
    "    for edge in edges:\n",
    "        u, v, wt = edge\n",
    "        adj[u].append([v, wt])\n",
    "        adj[v].append([u, wt])\n",
    "    return adj\n",
    "\n",
    "def dijkstra(V, edges, src):\n",
    "    adj = constructAdj(edges, V)\n",
    "    pq = []\n",
    "    dist = [sys.maxsize] * V\n",
    "    heapq.heappush(pq, [0, src])\n",
    "    dist[src] = 0\n",
    "\n",
    "    while pq:\n",
    "        u = heapq.heappop(pq)[1]\n",
    "        for x in adj[u]:\n",
    "            v, weight = x[0], x[1]\n",
    "            if dist[v] > dist[u] + weight:\n",
    "                dist[v] = dist[u] + weight\n",
    "                heapq.heappush(pq, [dist[v], v])\n",
    "    return dist\n",
    "\n",
    "\n",
    "edges =[[0, 1, 4], [0, 2, 8], [1, 4, 6], [2, 3, 2], [3, 4, 10]]\n",
    "V = 5\n",
    "result = dijkstra(V, edges, 0)\n",
    "print(result)\n",
    "       \n",
    "\n",
    "\n"
   ]
  },
  {
   "cell_type": "markdown",
   "id": "03138c57",
   "metadata": {},
   "source": [
    "Disjoint Sets\n",
    "-------"
   ]
  },
  {
   "cell_type": "code",
   "execution_count": 4,
   "id": "cc081ffd",
   "metadata": {},
   "outputs": [
    {
     "name": "stdout",
     "output_type": "stream",
     "text": [
      "[0, 1, 1, 1, 1]\n",
      "1\n",
      "[0, 1, 0, 0, 0]\n"
     ]
    }
   ],
   "source": [
    "class disjointSet:\n",
    "    def __init__(self,n):\n",
    "        self.parent=list(range(n))\n",
    "        self.rank=[0]*n\n",
    "\n",
    "    def find(self,x): #find top most parent of given vertice\n",
    "        while x != self.parent[x]:\n",
    "            x=self.parent[x]\n",
    "        return x\n",
    "    \n",
    "    def union(self,a,b):\n",
    "        p=self.find(a)\n",
    "        q=self.find(b)\n",
    "        if p!=q:\n",
    "            if self.rank[p]< self.rank[q]:\n",
    "                self.parent[p]=q\n",
    "            elif self.rank[p] > self.rank[q]:\n",
    "                self.parent[q]=p\n",
    "            else:\n",
    "                self.parent[q] =p\n",
    "                self.rank[p]+=1\n",
    "\n",
    "a=disjointSet(5)\n",
    "a.union(1,2)\n",
    "a.union(2,3)\n",
    "a.union(3,1)\n",
    "a.union(4,1)\n",
    "a.union(4,2)\n",
    "\n",
    "print(a.parent)\n",
    "print(a.parent[4])\n",
    "print(a.rank)\n"
   ]
  },
  {
   "cell_type": "markdown",
   "id": "de6f8489",
   "metadata": {},
   "source": [
    "Minimum Spanning Trees\n",
    "-------"
   ]
  },
  {
   "cell_type": "code",
   "execution_count": null,
   "id": "983c8b4e",
   "metadata": {},
   "outputs": [],
   "source": [
    "def KrushkalsMST(V,edges):\n",
    "    djs=disjointSet(V)\n",
    "    edges.sort(key=lambda x:x[2])\n",
    "    countEdge=0\n",
    "    cost=0\n",
    "    for i,j,k in edges:\n",
    "        if djs.find(i) != djs.find(j): #if cycle is present donot take it\n",
    "            djs.union(i,j)\n",
    "            countEdge += 1\n",
    "            cost += k\n",
    "            if countEdge == V-1:\n",
    "                break\n",
    "            \n",
    "    return cost"
   ]
  },
  {
   "cell_type": "code",
   "execution_count": null,
   "id": "86f21d8c",
   "metadata": {},
   "outputs": [],
   "source": []
  }
 ],
 "metadata": {
  "kernelspec": {
   "display_name": "Python 3",
   "language": "python",
   "name": "python3"
  },
  "language_info": {
   "codemirror_mode": {
    "name": "ipython",
    "version": 3
   },
   "file_extension": ".py",
   "mimetype": "text/x-python",
   "name": "python",
   "nbconvert_exporter": "python",
   "pygments_lexer": "ipython3",
   "version": "3.11.3"
  }
 },
 "nbformat": 4,
 "nbformat_minor": 5
}
