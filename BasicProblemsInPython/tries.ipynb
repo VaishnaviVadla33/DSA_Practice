{
 "cells": [
  {
   "cell_type": "code",
   "execution_count": 19,
   "id": "cc4ba13f",
   "metadata": {},
   "outputs": [
    {
     "name": "stdout",
     "output_type": "stream",
     "text": [
      "False\n",
      "True\n",
      "4\n",
      "['Application', 'Apple']\n"
     ]
    }
   ],
   "source": [
    "#similar to linked list\n",
    "class TrieNode:\n",
    "    def __init__(self):\n",
    "        self.trie={}\n",
    "        self.EOW=False\n",
    "def insert(TNode, str):\n",
    "    temp = TNode\n",
    "    for i in str:\n",
    "        if i not in temp.trie:\n",
    "            temp.trie[i] = TrieNode()\n",
    "        temp= temp.trie[i]\n",
    "    temp.EOW=True\n",
    "def search(TNode,str):\n",
    "    temp=TNode\n",
    "    for i in str:\n",
    "        if i not in temp.trie:\n",
    "            return False\n",
    "        else:\n",
    "            temp=temp.trie[i]\n",
    "    return temp.EOW\n",
    "\n",
    "def countTrie(TNode):\n",
    "    if TNode.EOW:\n",
    "        count=1\n",
    "    else:\n",
    "        count=0\n",
    "    for i in TNode.trie:\n",
    "        count += countTrie(TNode.trie[i])\n",
    "    return count\n",
    "\n",
    "def prifixWordsHelper(temp,word,prefix,result):\n",
    "    if temp.EOW:\n",
    "        result.append(prefix+word)\n",
    "    for i in temp.trie:\n",
    "        prifixWordsHelper(temp.trie[i],word+i,prefix,result)\n",
    "\n",
    "def prifixWords(TNode,prefix):\n",
    "    temp=TNode\n",
    "    for i in prefix:\n",
    "        temp=temp.trie[i]\n",
    "    result=[]\n",
    "    prifixWordsHelper(temp,'',prefix,result)\n",
    "    return result\n",
    "\n",
    "t=TrieNode()\n",
    "insert(t,'Application')\n",
    "print(search(t,'pen'))\n",
    "insert(t,'Car')\n",
    "insert(t,'pen')\n",
    "print(search(t,'pen'))\n",
    "insert(t,'Apple')\n",
    "print(countTrie(t))\n",
    "print(prifixWords(t,\"Appl\"))"
   ]
  },
  {
   "cell_type": "code",
   "execution_count": null,
   "id": "5dbac79d",
   "metadata": {},
   "outputs": [],
   "source": []
  }
 ],
 "metadata": {
  "kernelspec": {
   "display_name": "Python 3",
   "language": "python",
   "name": "python3"
  },
  "language_info": {
   "codemirror_mode": {
    "name": "ipython",
    "version": 3
   },
   "file_extension": ".py",
   "mimetype": "text/x-python",
   "name": "python",
   "nbconvert_exporter": "python",
   "pygments_lexer": "ipython3",
   "version": "3.11.3"
  }
 },
 "nbformat": 4,
 "nbformat_minor": 5
}
