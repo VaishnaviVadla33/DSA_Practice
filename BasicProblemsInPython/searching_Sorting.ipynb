{
 "cells": [
  {
   "cell_type": "markdown",
   "id": "5d9c59d8",
   "metadata": {},
   "source": [
    "-------------------------\n",
    "# 1----> Searching\n",
    "--------------------------"
   ]
  },
  {
   "cell_type": "markdown",
   "id": "7e5c7b9d",
   "metadata": {},
   "source": [
    "linear Search\n",
    "---------"
   ]
  },
  {
   "cell_type": "code",
   "execution_count": 2,
   "id": "862f591f",
   "metadata": {},
   "outputs": [
    {
     "name": "stdout",
     "output_type": "stream",
     "text": [
      "False\n"
     ]
    }
   ],
   "source": [
    "def linearSearch(arr,key):\n",
    "    for i in arr:\n",
    "        if i==key:\n",
    "            return True\n",
    "    return False\n",
    "\n",
    "arr=[3,2,6,8]\n",
    "print(linearSearch(arr,5))\n",
    "\n",
    "#TC-> Worst case is O(n), best and average case is O(1) when the key element is in first position"
   ]
  },
  {
   "cell_type": "markdown",
   "id": "adeb1e1c",
   "metadata": {},
   "source": [
    "Binary Search\n",
    "----------------"
   ]
  },
  {
   "cell_type": "code",
   "execution_count": 16,
   "id": "1daa24e5",
   "metadata": {},
   "outputs": [
    {
     "data": {
      "text/plain": [
       "True"
      ]
     },
     "execution_count": 16,
     "metadata": {},
     "output_type": "execute_result"
    }
   ],
   "source": [
    "def BinarySearch(arr,key):\n",
    "    i=0\n",
    "    j=len(arr)-1\n",
    "    while i<=j:\n",
    "        mid=(i+j)//2\n",
    "        if arr[mid] == key:\n",
    "            return True\n",
    "        elif key < arr[mid]:\n",
    "            j=mid-1\n",
    "        else:\n",
    "            i=mid+1\n",
    "    return False\n",
    "\n",
    "a=[1,2,12,21,24,31,34,44,45,46,54,67,89,90,122]\n",
    "BinarySearch(a,45)\n"
   ]
  },
  {
   "cell_type": "markdown",
   "id": "76bfa921",
   "metadata": {},
   "source": [
    "Finding starting and ending index of given elements occurance group\n",
    "------------"
   ]
  },
  {
   "cell_type": "code",
   "execution_count": null,
   "id": "58d51916",
   "metadata": {},
   "outputs": [
    {
     "name": "stdout",
     "output_type": "stream",
     "text": [
      "4\n"
     ]
    }
   ],
   "source": [
    "def FirstOccurance(a,key):\n",
    "    i=0\n",
    "    j=len(a)-1\n",
    "    while i<=j:\n",
    "        mid=(i+j)//2\n",
    "        if key == a[mid] and key == a[mid-1]:\n",
    "            j=mid-1\n",
    "        elif key == a[mid] and key != a[mid-1]:\n",
    "            return mid\n",
    "        elif key > a[mid]:\n",
    "            i = mid + 1\n",
    "        else:\n",
    "            j= mid - 1\n",
    "\n",
    "\n",
    "a=[1,2,3,4,8,8,8,8,8,8,12,15,16,17,21,24]\n",
    "key =8\n",
    "if a[0] == key:\n",
    "    print(0)\n",
    "else:\n",
    "    print(FirstOccurance(a,8))"
   ]
  },
  {
   "cell_type": "code",
   "execution_count": null,
   "id": "8f0e5e10",
   "metadata": {},
   "outputs": [
    {
     "name": "stdout",
     "output_type": "stream",
     "text": [
      "10\n"
     ]
    }
   ],
   "source": [
    "def SecondOccurance(a,key):\n",
    "    i=0\n",
    "    j=len(a)-1\n",
    "    while i<=j:\n",
    "        mid=(i+j)//2\n",
    "        if key == a[mid] and key == a[mid+1]:\n",
    "            i=mid+1\n",
    "        elif key == a[mid] and key != a[mid+1]:\n",
    "            return mid\n",
    "        elif key < a[mid]:\n",
    "            j= mid -1\n",
    "        else:\n",
    "            i=mid +1\n",
    "\n",
    "a=[1,2,3,4,8,8,8,8,8,8,8,12,15,16,17,21,24]\n",
    "#b=[1,2,3,4,8,8,8,8,8,8]\n",
    "key =8\n",
    "if a[len(a)-1] == key:\n",
    "    print(len(a)-1)\n",
    "else:\n",
    "    print(SecondOccurance(a,8))"
   ]
  },
  {
   "cell_type": "markdown",
   "id": "85e2b822",
   "metadata": {},
   "source": [
    "Finding extra element that is not present in both the arrays\n",
    "------------\n",
    "Input: a[] = [2,4,6,8,9,10,12], b[] = [2,4,6,8,10,12]\n",
    "\n",
    "Output: 4\n",
    "\n",
    "Explanation: In the first array, 9 is extra added and it's index is 4."
   ]
  },
  {
   "cell_type": "code",
   "execution_count": null,
   "id": "b59c1dc2",
   "metadata": {},
   "outputs": [
    {
     "name": "stdout",
     "output_type": "stream",
     "text": [
      "21\n"
     ]
    }
   ],
   "source": [
    "def DifferentElement(arr1,arr2):\n",
    "    i=0\n",
    "    j=len(arr2)-1\n",
    "    while i<=j:\n",
    "        mid=(i+j)//2\n",
    "        if i==j:\n",
    "            return arr2[mid]\n",
    "        elif arr1[mid]==arr2[mid]:\n",
    "            i=mid+1\n",
    "        else:\n",
    "            j=mid\n",
    "\n",
    "arr1=[2,4,8,9,16,20,22,25,31]\n",
    "arr2=[2,4,8,9,16,20,21,22,25,31]\n",
    "\n",
    "print(DifferentElement(arr1,arr2))\n"
   ]
  },
  {
   "cell_type": "markdown",
   "id": "b1a1d1ca",
   "metadata": {},
   "source": [
    "Count Number Of Zeros "
   ]
  },
  {
   "cell_type": "code",
   "execution_count": 32,
   "id": "eb263575",
   "metadata": {},
   "outputs": [
    {
     "name": "stdout",
     "output_type": "stream",
     "text": [
      "4\n"
     ]
    }
   ],
   "source": [
    "def findZeros(arr):\n",
    "    i=0\n",
    "    j=len(arr)-1\n",
    "    while(i<=j):\n",
    "        mid=(i+j)//2\n",
    "        if arr[i] == 0:\n",
    "            return len(arr)\n",
    "        elif arr[mid]==1 and arr[mid+1]==0:\n",
    "            return len(arr)-(mid+1)\n",
    "        elif arr[mid] == 1:\n",
    "            i=mid\n",
    "        else:\n",
    "            j=mid-1\n",
    "\n",
    "arr=[0,0,0,0]\n",
    "print(findZeros(arr))"
   ]
  },
  {
   "cell_type": "markdown",
   "id": "46fc2477",
   "metadata": {},
   "source": [
    "Merge Two Sorted Arrays\n",
    "-------------\n",
    "a=[1,5,9,10,15,20]\n",
    "b=[2,3,8,13]\n",
    "\n",
    "outputArray= [1,2,3,5,8,9,10,13,15,20]"
   ]
  },
  {
   "cell_type": "code",
   "execution_count": null,
   "id": "a7238213",
   "metadata": {},
   "outputs": [
    {
     "name": "stdout",
     "output_type": "stream",
     "text": [
      "[1, 2, 3, 5, 8, 9, 10, 13, 14, 15, 20, 21]\n"
     ]
    }
   ],
   "source": [
    "a=[1,5,9,10,15,20,21]\n",
    "b=[2,3,8,13,14]\n",
    "\n",
    "def mergeArrays(a,b):\n",
    "    i=0\n",
    "    j=0\n",
    "    n1=len(a)\n",
    "    n2=len(b)\n",
    "    arr=[]\n",
    "    while(i <= n1-1 and j <= n2-1):\n",
    "        if a[i]<=b[j]:\n",
    "            arr.append(a[i])\n",
    "            i=i+1\n",
    "        else:\n",
    "            arr.append(b[j])\n",
    "            j=j+1\n",
    "    while i<len(a): #Left over elements in a\n",
    "        arr.append(a[i])\n",
    "        i+=1\n",
    "    while j<len(b):\n",
    "        arr.append(b[j]) #Left over elemnts in b\n",
    "        j+=1\n",
    "    return arr\n",
    "\n",
    "print(mergeArrays(a,b))"
   ]
  },
  {
   "cell_type": "markdown",
   "id": "15a50678",
   "metadata": {},
   "source": [
    "-------------------------------\n",
    "# 2 ---> Sorting\n",
    "-------------------------------"
   ]
  },
  {
   "cell_type": "markdown",
   "id": "830ea302",
   "metadata": {},
   "source": [
    "Merge Sort\n",
    "---------------"
   ]
  },
  {
   "cell_type": "code",
   "execution_count": null,
   "id": "ea6dae02",
   "metadata": {},
   "outputs": [
    {
     "name": "stdout",
     "output_type": "stream",
     "text": [
      "[0, 1, 2, 3, 4, 5, 8, 9, 12, 13]\n"
     ]
    }
   ],
   "source": [
    "def merge(a,i,mid,j):\n",
    "    p = []\n",
    "    q = []\n",
    "    for k in range(i,mid+1):\n",
    "        p.append(a[k])  \n",
    "    for k in range(mid+1,j+1):\n",
    "        q.append(a[k])  \n",
    "    x = 0 #pointing to p\n",
    "    y = 0 #pointing to q\n",
    "    c = i\n",
    "    while x<len(p) and y<len(q):\n",
    "        if p[x] <= q[y]:\n",
    "            a[c] = p[x]\n",
    "            c+=1\n",
    "            x+=1\n",
    "        else:\n",
    "            a[c] = q[y]\n",
    "            c+=1\n",
    "            y+=1\n",
    "    while x<len(p):\n",
    "        a[c] = p[x]\n",
    "        c+=1\n",
    "        x+=1\n",
    "    while y<len(q):\n",
    "        a[c] = q[y]\n",
    "        c+=1\n",
    "        y+=1\n",
    "\n",
    "\n",
    "# recurance relation : TC = T(n/2) + T(n/2) +O(n)= 2*T(n/2)+O(n), t(n/2)--> for 2 recursions used and O(n)--> to merge\n",
    "def mergeSort(a,i,j):\n",
    "    if i < j:\n",
    "        mid = (i+j)//2\n",
    "        mergeSort(a,i,mid)\n",
    "        mergeSort(a,mid+1,j)\n",
    "        merge(a,i,mid,j)\n",
    "\n",
    "\n",
    "a = [2,1,4,9,0,12,13,3,8,5]\n",
    "i= 0\n",
    "j = len(a)-1\n",
    "mergeSort(a,i,j)\n",
    "print(a)\n",
    "\n",
    "#TC--> O(nlogn)\n"
   ]
  },
  {
   "cell_type": "markdown",
   "id": "a32d4acb",
   "metadata": {},
   "source": [
    "Quick Sort\n",
    "---------"
   ]
  },
  {
   "cell_type": "code",
   "execution_count": 63,
   "id": "a9303bab",
   "metadata": {},
   "outputs": [
    {
     "name": "stdout",
     "output_type": "stream",
     "text": [
      "[0, 1, 2, 3, 4, 5, 8, 9, 12, 13]\n"
     ]
    }
   ],
   "source": [
    "def partision(a, i, j):\n",
    "    p = i\n",
    "    i += 1\n",
    "    while True:\n",
    "        while i <= j and a[i] <= a[p]:\n",
    "            i += 1\n",
    "        while i <= j and a[j] > a[p]:\n",
    "            j -= 1\n",
    "        if i > j:\n",
    "            break\n",
    "        a[i], a[j] = a[j], a[i]\n",
    "    a[p], a[j] = a[j], a[p]\n",
    "    return j\n",
    "\n",
    "\n",
    "def quickSort(a, i, j):\n",
    "    if i < j:\n",
    "        p = partision(a, i, j)\n",
    "        quickSort(a, i, p - 1)\n",
    "        quickSort(a, p + 1, j)\n",
    "\n",
    "\n",
    "a = [2,1,4,9,0,12,13,3,8,5]\n",
    "i = 0\n",
    "j = len(a) - 1\n",
    "quickSort(a, i, j)\n",
    "print(a)\n",
    "\n",
    "\n"
   ]
  },
  {
   "cell_type": "code",
   "execution_count": null,
   "id": "65a47bda",
   "metadata": {},
   "outputs": [],
   "source": [
    "a=[12,32,35,65656,90,99,981,77]\n",
    "# Output 90,981,12,32,35,65656,77,99\n",
    "print(sorted(a,key=lambda x: x%10))"
   ]
  },
  {
   "cell_type": "markdown",
   "id": "3019ecc5",
   "metadata": {},
   "source": [
    "Fractional KnapSack\n",
    "-----------"
   ]
  },
  {
   "cell_type": "code",
   "execution_count": 78,
   "id": "5caec719",
   "metadata": {},
   "outputs": [
    {
     "name": "stdout",
     "output_type": "stream",
     "text": [
      "60\n"
     ]
    }
   ],
   "source": [
    "a = [10,20,30] # val\n",
    "b  = [5, 10, 15] # wt\n",
    "knapsackWeight = 100\n",
    "result = 0\n",
    "c = []\n",
    "for i in range(len(a)):\n",
    "    c.append([a[i],b[i]])\n",
    "c = sorted(c,key = lambda x: x[0]/x[1],reverse=True)\n",
    "for i in c:\n",
    "    if i[1] < knapsackWeight:\n",
    "        result += i[0]\n",
    "        knapsackWeight -=i[1]\n",
    "    else:\n",
    "       result += i[0]/i[1]*knapsackWeight\n",
    "print(result)\n"
   ]
  },
  {
   "cell_type": "markdown",
   "id": "1457d17b",
   "metadata": {},
   "source": [
    "Max Value Permutation\n",
    "-------------"
   ]
  },
  {
   "cell_type": "code",
   "execution_count": null,
   "id": "c7206128",
   "metadata": {},
   "outputs": [],
   "source": [
    "class Solution:\n",
    "    def maxValue(self, arr): \n",
    "        arr.sort()\n",
    "        mod = 10**9 + 7\n",
    "        sum=0\n",
    "        for i in range(len(arr)):\n",
    "            sum+=arr[i]*i%mod\n",
    "        return sum%mod"
   ]
  },
  {
   "cell_type": "markdown",
   "id": "88ebfe93",
   "metadata": {},
   "source": [
    "Possible Meetings\n",
    "----------"
   ]
  },
  {
   "cell_type": "markdown",
   "id": "44186315",
   "metadata": {},
   "source": []
  }
 ],
 "metadata": {
  "kernelspec": {
   "display_name": "Python 3",
   "language": "python",
   "name": "python3"
  },
  "language_info": {
   "codemirror_mode": {
    "name": "ipython",
    "version": 3
   },
   "file_extension": ".py",
   "mimetype": "text/x-python",
   "name": "python",
   "nbconvert_exporter": "python",
   "pygments_lexer": "ipython3",
   "version": "3.11.3"
  }
 },
 "nbformat": 4,
 "nbformat_minor": 5
}
