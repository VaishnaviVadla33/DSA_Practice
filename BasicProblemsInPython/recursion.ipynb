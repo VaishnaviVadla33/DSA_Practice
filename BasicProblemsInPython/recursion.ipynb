{
 "cells": [
  {
   "cell_type": "markdown",
   "id": "c2c884d3",
   "metadata": {},
   "source": [
    "Adding Consecutive numbers\n",
    "---------"
   ]
  },
  {
   "cell_type": "code",
   "execution_count": 139,
   "id": "17fd124c",
   "metadata": {},
   "outputs": [
    {
     "data": {
      "text/plain": [
       "55"
      ]
     },
     "execution_count": 139,
     "metadata": {},
     "output_type": "execute_result"
    }
   ],
   "source": [
    "def addConsecutive(n):\n",
    "    if n==1:\n",
    "        return 1\n",
    "    return n+ addConsecutive(n-1)\n",
    "addConsecutive(10)"
   ]
  },
  {
   "cell_type": "code",
   "execution_count": 140,
   "id": "0171c369",
   "metadata": {},
   "outputs": [],
   "source": [
    "# def display(n): #prints from 10 to 1\n",
    "#     if n==0:\n",
    "#         return\n",
    "#     print(n)\n",
    "#     display(n-1)\n",
    "\n",
    "# def display(n): #prints 1 to 10\n",
    "#     if n==0:\n",
    "#         return\n",
    "#     display(n-1)\n",
    "#     print(n)\n",
    "\n",
    "# def display(n): #prints from 10 to 1\n",
    "#     if n==0:\n",
    "#         return\n",
    "#     print(n)\n",
    "#     display(n-1)\n",
    "#     print(n)\n",
    "    \n",
    "# display(10)"
   ]
  },
  {
   "cell_type": "markdown",
   "id": "968dc267",
   "metadata": {},
   "source": [
    "Print Number of digits\n",
    "-----------"
   ]
  },
  {
   "cell_type": "code",
   "execution_count": 141,
   "id": "33d1fbbc",
   "metadata": {},
   "outputs": [
    {
     "name": "stdout",
     "output_type": "stream",
     "text": [
      "5\n"
     ]
    }
   ],
   "source": [
    "def num(n):\n",
    "    if n<= 9:\n",
    "        return 1\n",
    "    return 1 + num(n//10)\n",
    "\n",
    "print(num(45123))"
   ]
  },
  {
   "cell_type": "markdown",
   "id": "8a2b85d1",
   "metadata": {},
   "source": [
    "Sum of digits in a number\n",
    "----------"
   ]
  },
  {
   "cell_type": "code",
   "execution_count": 142,
   "id": "bbe6cd92",
   "metadata": {},
   "outputs": [
    {
     "name": "stdout",
     "output_type": "stream",
     "text": [
      "6\n"
     ]
    }
   ],
   "source": [
    "def num(n):\n",
    "    if n<= 9:\n",
    "        return n\n",
    "    return n%10 + num(n//10)\n",
    "\n",
    "print(num(123))"
   ]
  },
  {
   "cell_type": "markdown",
   "id": "e6f400a2",
   "metadata": {},
   "source": [
    "Check if a number is present in a number\n",
    "-------------------"
   ]
  },
  {
   "cell_type": "code",
   "execution_count": 143,
   "id": "7ba53c25",
   "metadata": {},
   "outputs": [
    {
     "name": "stdout",
     "output_type": "stream",
     "text": [
      "True\n"
     ]
    }
   ],
   "source": [
    "# def num(n,x):\n",
    "#     if n <= 9:\n",
    "#         return (n==x)\n",
    "#     return (n % 10 == x) or num(n // 10, x)\n",
    "\n",
    "#Other way of writing this code\n",
    "def num(n,x):\n",
    "    if n <= 9:\n",
    "        return (n==x)\n",
    "    if n % 10 == x:\n",
    "        return True\n",
    "    else:\n",
    "        return num(n // 10, x)\n",
    "\n",
    "print(num(377242,7))"
   ]
  },
  {
   "cell_type": "markdown",
   "id": "2c05d11b",
   "metadata": {},
   "source": [
    "Count frequency of repreated number\n",
    "----------"
   ]
  },
  {
   "cell_type": "code",
   "execution_count": 144,
   "id": "ff08cf2f",
   "metadata": {},
   "outputs": [
    {
     "name": "stdout",
     "output_type": "stream",
     "text": [
      "2\n"
     ]
    }
   ],
   "source": [
    "def num(n,x):\n",
    "    if n <= 9:\n",
    "        return int(n==x)\n",
    "    else:\n",
    "        return (int(n % 10 == x) + num(n // 10, x))\n",
    "\n",
    "print(num(377242,7))"
   ]
  },
  {
   "cell_type": "markdown",
   "id": "fafd404d",
   "metadata": {},
   "source": [
    "Sum of even number with n\n",
    "------------------"
   ]
  },
  {
   "cell_type": "code",
   "execution_count": 145,
   "id": "545c18c7",
   "metadata": {},
   "outputs": [
    {
     "data": {
      "text/plain": [
       "6"
      ]
     },
     "execution_count": 145,
     "metadata": {},
     "output_type": "execute_result"
    }
   ],
   "source": [
    "def summation(n):\n",
    "    if n == 0:\n",
    "        return 0\n",
    "    return (n if n%2 == 0 else 0) + summation(n-1)\n",
    "summation(5)\n",
    "    "
   ]
  },
  {
   "cell_type": "markdown",
   "id": "e09109da",
   "metadata": {},
   "source": [
    "Count of even number within n\n",
    "---------------"
   ]
  },
  {
   "cell_type": "code",
   "execution_count": 146,
   "id": "69fb1c64",
   "metadata": {},
   "outputs": [
    {
     "data": {
      "text/plain": [
       "2"
      ]
     },
     "execution_count": 146,
     "metadata": {},
     "output_type": "execute_result"
    }
   ],
   "source": [
    "def count(n):\n",
    "    if n == 0:\n",
    "        return 0\n",
    "    return (1 if n%2 == 0 else 0) + count(n-1)\n",
    "count(5)\n",
    "    "
   ]
  },
  {
   "cell_type": "markdown",
   "id": "2f053664",
   "metadata": {},
   "source": [
    "Sum of even number in a digit\n",
    "-----------"
   ]
  },
  {
   "cell_type": "code",
   "execution_count": 147,
   "id": "2186ee3a",
   "metadata": {},
   "outputs": [
    {
     "data": {
      "text/plain": [
       "12"
      ]
     },
     "execution_count": 147,
     "metadata": {},
     "output_type": "execute_result"
    }
   ],
   "source": [
    "def summation(n):\n",
    "    if n <=9 :\n",
    "        return n if(n%2==0) else 0\n",
    "    return (n%10 if ((n%10)%2 == 0) else 0) + summation(n//10)\n",
    "summation(123456)\n",
    "    "
   ]
  },
  {
   "cell_type": "markdown",
   "id": "72a191cf",
   "metadata": {},
   "source": [
    "Given in a list\n",
    "-------------\n",
    "1) Count the repetation of value k in list\n",
    "2) Sum of the values in the list\n",
    "3) search for a value in list"
   ]
  },
  {
   "cell_type": "code",
   "execution_count": 148,
   "id": "260ec163",
   "metadata": {},
   "outputs": [
    {
     "data": {
      "text/plain": [
       "4"
      ]
     },
     "execution_count": 148,
     "metadata": {},
     "output_type": "execute_result"
    }
   ],
   "source": [
    "def repeatationValue(l:list[int],n:int,k:int)->int:\n",
    "    if n==1:\n",
    "        return int(l[n-1]==k)\n",
    "    return int(l[n-1]==k) + repeatationValue(l,n-1,k)\n",
    "\n",
    "l=[5,5,8,5,9,3,4,5,6]\n",
    "n=len(l)\n",
    "repeatationValue(l,n,5)"
   ]
  },
  {
   "cell_type": "code",
   "execution_count": 149,
   "id": "4605e840",
   "metadata": {},
   "outputs": [
    {
     "data": {
      "text/plain": [
       "10"
      ]
     },
     "execution_count": 149,
     "metadata": {},
     "output_type": "execute_result"
    }
   ],
   "source": [
    "def sum(l,n):\n",
    "    if n== 0:\n",
    "        return 0\n",
    "    return l[n-1]+sum(l,n-1)\n",
    "\n",
    "l=[1,2,3,4]\n",
    "n=len(l)\n",
    "sum(l,n)"
   ]
  },
  {
   "cell_type": "code",
   "execution_count": 150,
   "id": "5f4e3d85",
   "metadata": {},
   "outputs": [
    {
     "data": {
      "text/plain": [
       "True"
      ]
     },
     "execution_count": 150,
     "metadata": {},
     "output_type": "execute_result"
    }
   ],
   "source": [
    "def check(l,n,k):\n",
    "    if n==0:\n",
    "        return False\n",
    "    return True if l[n-1]==k else check(l,n-1,k)\n",
    "\n",
    "#Other apprach\n",
    "# def check(l,n,k):\n",
    "#     if n==0:\n",
    "#         return False\n",
    "#     return l[n-1]==k or check(l,n-1,k)\n",
    "\n",
    "l=[1,2,4,5]\n",
    "n=len(l)\n",
    "k=4\n",
    "check(l,n,k)"
   ]
  },
  {
   "cell_type": "markdown",
   "id": "500b32bd",
   "metadata": {},
   "source": [
    "Reverse list\n",
    "------------"
   ]
  },
  {
   "cell_type": "code",
   "execution_count": 151,
   "id": "bdc96a18",
   "metadata": {},
   "outputs": [
    {
     "name": "stdout",
     "output_type": "stream",
     "text": [
      "[8, 7, 5, 0, 1, 3]\n"
     ]
    }
   ],
   "source": [
    "def reverse1(a,start,end):\n",
    "    if start > end:\n",
    "        return \n",
    "    a[start],a[end]=a[end],a[start]\n",
    "    return reverse1(a,start+1,end-1)\n",
    "\n",
    "\n",
    "a=[3,1,0,5,7,8]\n",
    "reverse1(a,0,len(a)-1)\n",
    "print(a)"
   ]
  },
  {
   "cell_type": "markdown",
   "id": "9aac508f",
   "metadata": {},
   "source": [
    "Check a string is palindrome or not\n",
    "----------------"
   ]
  },
  {
   "cell_type": "code",
   "execution_count": 152,
   "id": "137c1073",
   "metadata": {},
   "outputs": [
    {
     "data": {
      "text/plain": [
       "True"
      ]
     },
     "execution_count": 152,
     "metadata": {},
     "output_type": "execute_result"
    }
   ],
   "source": [
    "# abc is not palindrome and aba is palindrome\n",
    "\n",
    "def palindrome(s,start,end):\n",
    "    if start > end:\n",
    "        return True \n",
    "    return palindrome(s,start+1,end-1) if s[start]==s[end] else False                                                                                  \n",
    "\n",
    "s='aba'\n",
    "n=len(s)\n",
    "palindrome(s,0,len(s)-1)"
   ]
  },
  {
   "cell_type": "markdown",
   "id": "c1ef9c7d",
   "metadata": {},
   "source": [
    "Reverse a Number using recursion\n",
    "-----------------"
   ]
  },
  {
   "cell_type": "code",
   "execution_count": 153,
   "id": "1f41f447",
   "metadata": {},
   "outputs": [
    {
     "name": "stdout",
     "output_type": "stream",
     "text": [
      "2843\n"
     ]
    }
   ],
   "source": [
    "def reverseNumber(a,revNum):\n",
    "    if a<=9:\n",
    "        return revNum*10 + a\n",
    "    return reverseNumber(a//10,revNum*10 + a%10)\n",
    "\n",
    "\n",
    "a=3482\n",
    "print(reverseNumber(a,0))"
   ]
  },
  {
   "cell_type": "markdown",
   "id": "1c3de9c8",
   "metadata": {},
   "source": [
    "Fibonacci series\n",
    "-------------\n",
    "0,1,1,2,3,5,8,13"
   ]
  },
  {
   "cell_type": "code",
   "execution_count": 154,
   "id": "8d1c96b9",
   "metadata": {},
   "outputs": [
    {
     "name": "stdout",
     "output_type": "stream",
     "text": [
      "0  1 1 2 3 5 8 13 21 34 "
     ]
    }
   ],
   "source": [
    "#Using loop\n",
    "n=10\n",
    "\n",
    "print(0,'',1,end=\" \")\n",
    "n=n-2\n",
    "a=0\n",
    "b=1\n",
    "while n:\n",
    "    nextTerm=a+b\n",
    "    print(nextTerm,end=\" \")\n",
    "    a=b\n",
    "    b=nextTerm\n",
    "    n-=1\n"
   ]
  },
  {
   "cell_type": "code",
   "execution_count": 155,
   "id": "13489612",
   "metadata": {},
   "outputs": [
    {
     "name": "stdout",
     "output_type": "stream",
     "text": [
      "3\n"
     ]
    }
   ],
   "source": [
    "def fibonacciSeries(n):\n",
    "    if n== 1 or n==2:\n",
    "        return n-1\n",
    "    return fibonacciSeries(n-1)+fibonacciSeries(n-2)\n",
    "print(fibonacciSeries(5))\n"
   ]
  },
  {
   "cell_type": "code",
   "execution_count": 156,
   "id": "04ae22f5",
   "metadata": {},
   "outputs": [
    {
     "name": "stdout",
     "output_type": "stream",
     "text": [
      "84\n"
     ]
    }
   ],
   "source": [
    "def fibonacciSeries(n):\n",
    "    if n== 1 or n==2:\n",
    "        return n-1\n",
    "    return 5+ fibonacciSeries(n-1)+ 3*fibonacciSeries(n-2)\n",
    "print(fibonacciSeries(6))\n"
   ]
  },
  {
   "cell_type": "markdown",
   "id": "d2407552",
   "metadata": {},
   "source": [
    "# Dynamic programming-> Optimized version of recursion"
   ]
  },
  {
   "cell_type": "markdown",
   "id": "a52a3a25",
   "metadata": {},
   "source": [
    "Instead of repeating process for evry time function called, if similar function(with same parameters passed) is already called, dp stores the vale and instead of calculating again it uses stored value"
   ]
  },
  {
   "cell_type": "code",
   "execution_count": 157,
   "id": "5b97e850",
   "metadata": {},
   "outputs": [
    {
     "name": "stdout",
     "output_type": "stream",
     "text": [
      "84\n"
     ]
    }
   ],
   "source": [
    "def fibonacciSeries(n,dp):\n",
    "    if n==1 or n==2:\n",
    "        return dp[n]\n",
    "    if dp[n] != -1:\n",
    "        return dp[n]\n",
    "    else:\n",
    "        dp[n]=5+fibonacciSeries(n-1,dp)+3*fibonacciSeries(n-2,dp)\n",
    "        return dp[n]\n",
    "\n",
    "n=6\n",
    "dp=[-1]*(n+1)\n",
    "dp[1]=0\n",
    "dp[2]=1\n",
    "fibonacciSeries(n,dp)\n",
    "print(dp[6])\n",
    "\n"
   ]
  },
  {
   "cell_type": "markdown",
   "id": "47176c13",
   "metadata": {},
   "source": [
    "# Tower of hanoi prblem"
   ]
  },
  {
   "cell_type": "code",
   "execution_count": 158,
   "id": "7cbe25f4",
   "metadata": {},
   "outputs": [
    {
     "name": "stdout",
     "output_type": "stream",
     "text": [
      "moved disk from Source to Destination\n",
      "moved disk from Source to Helper\n",
      "moved disk from Destination to Helper\n",
      "moved disk from Source to Destination\n",
      "moved disk from Helper to Source\n",
      "moved disk from Helper to Destination\n",
      "moved disk from Source to Destination\n"
     ]
    }
   ],
   "source": [
    "def TowerOfHanoi(n,source,destination,helper):\n",
    "    if n==0:\n",
    "        return \n",
    "    TowerOfHanoi(n-1,source,helper,destination) #moved n-1 disk from source to helper using destination \n",
    "    print(f\"moved disk from {source} to {destination}\")\n",
    "    TowerOfHanoi(n-1,helper,destination,source) #placing n-1 disk from helper to destination with the help of source\n",
    "\n",
    "TowerOfHanoi(3,'Source','Destination','Helper')"
   ]
  },
  {
   "cell_type": "markdown",
   "id": "bd8c4325",
   "metadata": {},
   "source": [
    "Finding power of a number using recursion\n",
    "-----------------"
   ]
  },
  {
   "cell_type": "code",
   "execution_count": 159,
   "id": "79a0e129",
   "metadata": {},
   "outputs": [
    {
     "name": "stdout",
     "output_type": "stream",
     "text": [
      "625\n"
     ]
    }
   ],
   "source": [
    "print(25*25)"
   ]
  },
  {
   "cell_type": "code",
   "execution_count": 160,
   "id": "1041c58d",
   "metadata": {},
   "outputs": [
    {
     "data": {
      "text/plain": [
       "125"
      ]
     },
     "execution_count": 160,
     "metadata": {},
     "output_type": "execute_result"
    }
   ],
   "source": [
    "# def power1(a,b):\n",
    "#     if b==1:\n",
    "#         return a\n",
    "#     return a*power1(a,b-1) #time complexity is O(b)\n",
    "\n",
    "#OPTMIZED CODE\n",
    "def power1(a,b):\n",
    "    if b==0:\n",
    "        return 1\n",
    "    temp= power1(a,b//2)\n",
    "    if b% 2== 0:\n",
    "        return temp*temp\n",
    "    else:\n",
    "        return a*temp*temp\n",
    "\n",
    "\n",
    "power1(5,3)"
   ]
  },
  {
   "cell_type": "markdown",
   "id": "f257e346",
   "metadata": {},
   "source": [
    "nCr calculation using recursion\n",
    "-------------"
   ]
  },
  {
   "cell_type": "code",
   "execution_count": 161,
   "id": "a209871f",
   "metadata": {},
   "outputs": [
    {
     "name": "stdout",
     "output_type": "stream",
     "text": [
      "3\n"
     ]
    }
   ],
   "source": [
    "def ncr(n,r):\n",
    "    if  r == 0 or n== r:\n",
    "        return 1\n",
    "    return ncr(n-1,r-1)+ncr(n-1,r)\n",
    "print(ncr(3,1))"
   ]
  },
  {
   "cell_type": "code",
   "execution_count": 162,
   "id": "04f2abf1",
   "metadata": {},
   "outputs": [
    {
     "name": "stdout",
     "output_type": "stream",
     "text": [
      "455\n",
      "[-1, -1, -1, -1, -1, -1, -1, -1, -1, -1, -1, -1, -1]\n",
      "[-1, -1, -1, -1, -1, -1, -1, -1, -1, -1, -1, -1, -1]\n",
      "[-1, 2, -1, -1, -1, -1, -1, -1, -1, -1, -1, -1, -1]\n",
      "[-1, 3, 3, -1, -1, -1, -1, -1, -1, -1, -1, -1, -1]\n",
      "[-1, 4, 6, 4, -1, -1, -1, -1, -1, -1, -1, -1, -1]\n",
      "[-1, -1, 10, 10, 5, -1, -1, -1, -1, -1, -1, -1, -1]\n",
      "[-1, -1, -1, 20, 15, 6, -1, -1, -1, -1, -1, -1, -1]\n",
      "[-1, -1, -1, -1, 35, 21, 7, -1, -1, -1, -1, -1, -1]\n",
      "[-1, -1, -1, -1, -1, 56, 28, 8, -1, -1, -1, -1, -1]\n",
      "[-1, -1, -1, -1, -1, -1, 84, 36, 9, -1, -1, -1, -1]\n",
      "[-1, -1, -1, -1, -1, -1, -1, 120, 45, 10, -1, -1, -1]\n",
      "[-1, -1, -1, -1, -1, -1, -1, -1, 165, 55, 11, -1, -1]\n",
      "[-1, -1, -1, -1, -1, -1, -1, -1, -1, 220, 66, 12, -1]\n",
      "[-1, -1, -1, -1, -1, -1, -1, -1, -1, -1, 286, 78, 13]\n",
      "[-1, -1, -1, -1, -1, -1, -1, -1, -1, -1, -1, 364, 91]\n",
      "[-1, -1, -1, -1, -1, -1, -1, -1, -1, -1, -1, -1, 455]\n"
     ]
    }
   ],
   "source": [
    "#Using Dynamic programming\n",
    "\n",
    "def ncr(n,r,dp):\n",
    "    if r==0 or n == r:\n",
    "        return 1\n",
    "    if dp[n][r] !=-1:\n",
    "        return dp[n][r]\n",
    "    else:\n",
    "        dp[n][r]=ncr(n-1,r-1,dp)+ncr(n-1,r,dp)\n",
    "        return dp[n][r]\n",
    "n=15\n",
    "r=12\n",
    "dp=[]\n",
    "for i in range(n+1):\n",
    "    dp.append([-1]*(r+1))\n",
    "\n",
    "print(ncr(15,12,dp))\n",
    "\n",
    "for i in dp:\n",
    "    print(i) #shows our resursive call's values "
   ]
  },
  {
   "cell_type": "code",
   "execution_count": null,
   "id": "07d2522d",
   "metadata": {},
   "outputs": [],
   "source": []
  }
 ],
 "metadata": {
  "kernelspec": {
   "display_name": "Python 3",
   "language": "python",
   "name": "python3"
  },
  "language_info": {
   "codemirror_mode": {
    "name": "ipython",
    "version": 3
   },
   "file_extension": ".py",
   "mimetype": "text/x-python",
   "name": "python",
   "nbconvert_exporter": "python",
   "pygments_lexer": "ipython3",
   "version": "3.11.3"
  }
 },
 "nbformat": 4,
 "nbformat_minor": 5
}
