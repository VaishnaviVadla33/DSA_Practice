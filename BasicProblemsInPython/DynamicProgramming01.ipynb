{
 "cells": [
  {
   "cell_type": "markdown",
   "id": "79339e8a",
   "metadata": {},
   "source": [
    "Fibonacci Series Using Dynamic Programming\n",
    "------------------"
   ]
  },
  {
   "cell_type": "code",
   "execution_count": 9,
   "id": "07ab2eb3",
   "metadata": {},
   "outputs": [
    {
     "data": {
      "text/plain": [
       "1"
      ]
     },
     "execution_count": 9,
     "metadata": {},
     "output_type": "execute_result"
    }
   ],
   "source": [
    "def f(n):\n",
    "    if n==1 or n==2:\n",
    "        return n-1\n",
    "    return f(n-1)+f(n-2)\n",
    "f(2)\n",
    "# TC- O(2^n) becuase of -> T(n)= T(n-1)+T(n-2)+O(1)"
   ]
  },
  {
   "cell_type": "code",
   "execution_count": 4,
   "id": "29685dd0",
   "metadata": {},
   "outputs": [
    {
     "name": "stdout",
     "output_type": "stream",
     "text": [
      "8\n",
      "[-1, 0, 1, 1, 2, 3, 5, 8]\n"
     ]
    }
   ],
   "source": [
    "#Using Dynamic Programming\n",
    "# TC- O(n), SC=O(n), this method is called as memoization\n",
    "def f(n,dp):\n",
    "    if dp[n] != -1:\n",
    "        return dp[n]\n",
    "    dp[n]=f(n-1,dp)+f(n-2,dp)\n",
    "    return dp[n]\n",
    "\n",
    "n=7\n",
    "dp=[-1]*(n+1)\n",
    "dp[1]=0\n",
    "dp[2]=1\n",
    "print(f(n,dp))\n",
    "print(dp)"
   ]
  },
  {
   "cell_type": "code",
   "execution_count": 13,
   "id": "28747557",
   "metadata": {},
   "outputs": [
    {
     "name": "stdout",
     "output_type": "stream",
     "text": [
      "21\n"
     ]
    }
   ],
   "source": [
    "#TABLUATION or BOTTOM APPROACH -> Running dp problem using loop\n",
    "\n",
    "n=9\n",
    "dp=[-1]*(n+1)\n",
    "dp[1]=0\n",
    "dp[2]=1\n",
    "for i in range(3,n+1):\n",
    "    dp[i]=dp[i-1]+dp[i-2]\n",
    "print(dp[n])"
   ]
  },
  {
   "cell_type": "markdown",
   "id": "95b52d1a",
   "metadata": {},
   "source": [
    "### Tabulation apprach is more optimal and efficient \n",
    "becuase when recursion in used , all these calls are stored in a stack as before executing one call, other calls should be made,but when too many calls are made , stack overflow occurs, so tabulation is suggested"
   ]
  },
  {
   "cell_type": "markdown",
   "id": "61f7e87c",
   "metadata": {},
   "source": [
    "nCr Problem\n",
    "--------------"
   ]
  },
  {
   "cell_type": "code",
   "execution_count": 15,
   "id": "e95709d7",
   "metadata": {},
   "outputs": [
    {
     "data": {
      "text/plain": [
       "3"
      ]
     },
     "execution_count": 15,
     "metadata": {},
     "output_type": "execute_result"
    }
   ],
   "source": [
    "def nCr(n,r):\n",
    "    if r==0 or n==r:\n",
    "        return 1\n",
    "    return nCr(n-1,r-1) + nCr(n-1,r)\n",
    "\n",
    "nCr(3,1)"
   ]
  },
  {
   "cell_type": "code",
   "execution_count": null,
   "id": "02f2f9d9",
   "metadata": {},
   "outputs": [
    {
     "name": "stdout",
     "output_type": "stream",
     "text": [
      "[1, -1, -1, -1, -1]\n",
      "[1, 1, -1, -1, -1]\n",
      "[1, -1, 1, -1, -1]\n",
      "[1, -1, -1, 1, -1]\n",
      "[1, -1, -1, -1, 1]\n",
      "[1, -1, -1, -1, -1]\n",
      "--------------------------------------------------\n",
      "5\n",
      "--------------------------------------------------\n",
      "[1, -1, -1, -1, -1]\n",
      "[1, 1, -1, -1, -1]\n",
      "[1, 2, 1, -1, -1]\n",
      "[1, -1, 3, 1, -1]\n",
      "[1, -1, -1, 4, 1]\n",
      "[1, -1, -1, -1, 5]\n"
     ]
    }
   ],
   "source": [
    "# apply memoization to this problem\n",
    "\n",
    "def ncr(n,r,dp):\n",
    "    if dp[n][r] != -1:\n",
    "        return dp[n][r]\n",
    "    dp[n][r] =  ncr(n-1,r-1,dp) + ncr(n-1,r,dp)\n",
    "    return dp[n][r]\n",
    "\n",
    "\n",
    "# values\n",
    "n = 5\n",
    "r = 4\n",
    "dp = []*(n+1)\n",
    "for i in range(n+1):\n",
    "    temp = [-1]*(r+1)\n",
    "    dp.append(temp)\n",
    "# filling the base condition\n",
    "#------------------------------------ dp[i][0] = 1, dp[i][i] = 1\n",
    "for i in range(n+1):\n",
    "    dp[i][0] = 1\n",
    "for i in range(r+1):\n",
    "    dp[i][i] = 1\n",
    "\n",
    "\n",
    "for i in dp:\n",
    "    print(i)\n",
    "print('-'*50)\n",
    "print(ncr(n,r,dp))\n",
    "print('-'*50)\n",
    "for i in dp:\n",
    "    print(i)\n"
   ]
  },
  {
   "cell_type": "code",
   "execution_count": 42,
   "id": "0d856d95",
   "metadata": {},
   "outputs": [
    {
     "name": "stdout",
     "output_type": "stream",
     "text": [
      "5\n",
      "--------------------------------------------------\n",
      "[1, -2, -2, -2, -2]\n",
      "[1, 1, -4, -4, -4]\n",
      "[1, 2, 1, -8, -8]\n",
      "[1, 3, 3, 1, -16]\n",
      "[1, 4, 6, 4, 1]\n",
      "[1, 5, 10, 10, 5]\n"
     ]
    }
   ],
   "source": [
    "# Using tabulation\n",
    "# values\n",
    "n = 5\n",
    "r = 4\n",
    "dp = []*(n+1)\n",
    "for i in range(n+1):\n",
    "    temp = [-1]*(r+1)\n",
    "    dp.append(temp)\n",
    "#----------------------------\n",
    "for i in range(n+1):\n",
    "    for j in range(r+1):\n",
    "        if j==0 or i==j:\n",
    "            dp[i][0]=1\n",
    "            dp[j][j]=1\n",
    "        else:\n",
    "            dp[i][j]=dp[i-1][j-1]+ dp[i-1][j]\n",
    "print(dp[n][r])\n",
    "print(\"-\"*50)\n",
    "for i in dp:\n",
    "    print(i)"
   ]
  },
  {
   "cell_type": "markdown",
   "id": "f7ef6bd5",
   "metadata": {},
   "source": [
    "KnapSack Problem(0/1)\n",
    "-------------"
   ]
  },
  {
   "cell_type": "code",
   "execution_count": null,
   "id": "947c43d5",
   "metadata": {},
   "outputs": [
    {
     "name": "stdout",
     "output_type": "stream",
     "text": [
      "90\n"
     ]
    }
   ],
   "source": [
    "# Using recursion\n",
    "def knapsackProblem(val,wt,capacity,n):\n",
    "    if capacity==0 or n==0:\n",
    "        return 0\n",
    "    if wt[n-1]<=capacity:\n",
    "        return max(val[n-1]+ knapsackProblem(val,wt,capacity-wt[n-1],n-1), knapsackProblem(val,wt,capacity,n-1))\n",
    "    else:\n",
    "        return knapsackProblem(val,wt,capacity,n-1)\n",
    "\n",
    "\n",
    "value=[70,60,40,30,10,10000]\n",
    "wt=[4,3,4,2,4,6]\n",
    "capacity=5\n",
    "\n",
    "maxValue=knapsackProblem(value,wt,capacity,len(value))\n",
    "print(maxValue)\n"
   ]
  },
  {
   "cell_type": "code",
   "execution_count": null,
   "id": "139bd795",
   "metadata": {},
   "outputs": [
    {
     "name": "stdout",
     "output_type": "stream",
     "text": [
      "0 ---> [0, 0, 0, 0, 0, 0]\n",
      "1 ---> [0, 0, 0, 0, -1, 45]\n",
      "2 ---> [0, 0, -1, 50, -1, 50]\n",
      "3 ---> [0, -1, -1, 50, -1, 50]\n",
      "4 ---> [0, -1, -1, -1, -1, 80]\n",
      "5 ---> [0, -1, -1, -1, -1, 80]\n",
      "6 ---> [0, -1, -1, -1, -1, 80]\n"
     ]
    }
   ],
   "source": [
    "#Using Memoization (bottom up approach)\n",
    "def knapSack(val, wt, W,n):\n",
    "    if dp[n][W] != -1:\n",
    "        return dp[n][W]\n",
    "    else:\n",
    "        if wt[n-1] <= W:\n",
    "            dp[n][W] =  max(val[n-1] + knapSack(val,wt,W-wt[n-1],n-1), knapSack(val,wt,W,n-1))\n",
    "            return dp[n][W]\n",
    "        else:\n",
    "            dp[n][W]  = knapSack(val,wt,W,n-1)\n",
    "            return dp[n][W]\n",
    "\n",
    "\n",
    "val = [45,50,40,30,10,100]\n",
    "wt = [5,3,4,2,5,6]\n",
    "W = 5\n",
    "n = len(val)\n",
    "\n",
    "\n",
    "dp = []*(n+1)\n",
    "for i in range(n+1):\n",
    "    dp.append([-1]*(W+1))\n",
    "for i in range(n+1):\n",
    "    dp[i][0] = 0\n",
    "dp[0] = [0]*(W+1)\n",
    "\n",
    "\n",
    "MaxValue = knapSack(val,wt,W,len(val))\n",
    "# print(MaxValue)\n",
    "for i in range(len(dp)):\n",
    "    print(i ,'--->',dp[i])"
   ]
  },
  {
   "cell_type": "code",
   "execution_count": null,
   "id": "a3bf93d2",
   "metadata": {},
   "outputs": [
    {
     "name": "stdout",
     "output_type": "stream",
     "text": [
      "80\n"
     ]
    }
   ],
   "source": [
    "# Tabulation- top Down Approach\n",
    "val = [45,50,40,30,10,100]\n",
    "wt = [5,3,4,2,5,6]\n",
    "W = 5\n",
    "n = len(val)\n",
    "\n",
    "\n",
    "dp = []*(n+1)\n",
    "for i in range(n+1):\n",
    "    dp.append([-1]*(W+1))\n",
    "\n",
    "for i in range(n+1):\n",
    "    for j in range(W+1):\n",
    "        if i == 0 or j == 0:\n",
    "            dp[i][j] = 0\n",
    "        elif wt[i-1] <= j:\n",
    "            dp[i][j] = max(val[i-1]+dp[i-1][j-wt[i-1]],dp[i-1][j])\n",
    "        else:\n",
    "            dp[i][j] = dp[i-1][j]\n",
    "print(dp[n][W])\n",
    "\n"
   ]
  },
  {
   "cell_type": "markdown",
   "id": "db6d1c8c",
   "metadata": {},
   "source": [
    "## Unbounded KnapSack"
   ]
  },
  {
   "cell_type": "code",
   "execution_count": 3,
   "id": "e589865e",
   "metadata": {},
   "outputs": [
    {
     "name": "stdout",
     "output_type": "stream",
     "text": [
      "80\n"
     ]
    }
   ],
   "source": [
    "# memoization , (bottom up approach)\n",
    "def knapSack(val, wt, W,n):\n",
    "    if dp[n][W] != -1:\n",
    "        return dp[n][W]\n",
    "    else:\n",
    "        if wt[n-1] <= W:\n",
    "            dp[n][W] =  max(val[n-1] + knapSack(val,wt,W-wt[n-1],n), knapSack(val,wt,W,n-1))\n",
    "            return dp[n][W]\n",
    "        else:\n",
    "            dp[n][W]  = knapSack(val,wt,W,n-1)\n",
    "            return dp[n][W]\n",
    "\n",
    "\n",
    "val = [45,50,40,30,10,100]\n",
    "wt = [5,3,4,2,5,6]\n",
    "W = 5\n",
    "n = len(val)\n",
    "\n",
    "\n",
    "dp = []*(n+1)\n",
    "for i in range(n+1):\n",
    "    dp.append([-1]*(W+1))\n",
    "\n",
    "\n",
    "# top Down Approach\n",
    "for i in range(n+1):\n",
    "    for j in range(W+1):\n",
    "        if i == 0 or j == 0:\n",
    "            dp[i][j] = 0\n",
    "        elif wt[i-1] <= j:\n",
    "            dp[i][j] = max(val[i-1]+dp[i][j-wt[i-1]],dp[i-1][j])\n",
    "        else:\n",
    "            dp[i][j] = dp[i-1][j]\n",
    "print(dp[n][W])\n",
    "\n"
   ]
  },
  {
   "cell_type": "markdown",
   "id": "57cc88b6",
   "metadata": {},
   "source": [
    "Dividing an array into 2 sub sets where both subsets sum is equal\n",
    "----------------"
   ]
  },
  {
   "cell_type": "code",
   "execution_count": null,
   "id": "acd39f91",
   "metadata": {},
   "outputs": [
    {
     "data": {
      "text/plain": [
       "False"
      ]
     },
     "execution_count": 16,
     "metadata": {},
     "output_type": "execute_result"
    }
   ],
   "source": [
    "#Using recursion\n",
    "a=[9,4,5,1]\n",
    "\n",
    "def helper(a,n,sum):\n",
    "    if sum==0:\n",
    "        return True\n",
    "    if n==0:\n",
    "        return False\n",
    "    if a[n-1]<=sum:\n",
    "        return  helper(a,n-1,sum-a[n-1]) or helper(a,n-1,sum)\n",
    "    else:\n",
    "        return helper(a,n-1,sum)\n",
    "\n",
    "def equalSumPartition(a):\n",
    "    arraySum=sum(a)\n",
    "    if arraySum%2 !=0:\n",
    "        return False\n",
    "    else:\n",
    "        return helper(a,len(a),arraySum//2)\n",
    "\n",
    "equalSumPartition(a)"
   ]
  },
  {
   "cell_type": "code",
   "execution_count": 17,
   "id": "10209e9c",
   "metadata": {},
   "outputs": [
    {
     "name": "stdout",
     "output_type": "stream",
     "text": [
      "False\n"
     ]
    }
   ],
   "source": [
    "# Using memoization\n",
    "\n",
    "def helper(a,n,sum,dp):\n",
    "    if dp[n][sum] != False:\n",
    "        return dp[n][sum]\n",
    "    else:\n",
    "        if a[n-1] <=sum:\n",
    "            dp[n][sum] =  helper(a,n-1,sum-a[n-1]) or helper(a,n-1,sum)\n",
    "            return dp[n][sum]\n",
    "        else:\n",
    "            dp[n][sum] =  helper(a,n-1,sum)\n",
    "            return dp[n][sum]\n",
    "   \n",
    "def equalSumPartision(a):\n",
    "    arraysum = sum(a)\n",
    "    if arraysum%2 != 0:\n",
    "        return False\n",
    "    else:\n",
    "        n = len(a)\n",
    "        dp = []\n",
    "        arraysum //=2\n",
    "        for _ in range(n+1):\n",
    "            dp.append([False]*(arraysum+1))\n",
    "        for i in range(n):\n",
    "            dp[i][0] = True\n",
    "        return helper(a,len(a),arraysum,dp)\n",
    "       \n",
    "a = [3,3,1,1,5]\n",
    "\n",
    "\n",
    "print(equalSumPartision(a))"
   ]
  },
  {
   "cell_type": "code",
   "execution_count": null,
   "id": "994ace1a",
   "metadata": {},
   "outputs": [
    {
     "name": "stdout",
     "output_type": "stream",
     "text": [
      "True\n"
     ]
    }
   ],
   "source": [
    "#Tabulation\n",
    "  \n",
    "def equalSumPartision(a):\n",
    "    arraysum = sum(a)\n",
    "    if arraysum%2 != 0:\n",
    "        return False\n",
    "    else:\n",
    "        n = len(a)\n",
    "        dp = []\n",
    "        arraysum //=2\n",
    "        for _ in range(n+1):\n",
    "            dp.append([False]*(arraysum+1))\n",
    "        for i in range(n):\n",
    "            dp[i][0] = True\n",
    "        # return helper(a,len(a),arraysum,dp)\n",
    "        for i in range(n+1):\n",
    "            for j in range(arraysum+1):\n",
    "                dp[i][0] = True\n",
    "                if a[i-1]<=j:\n",
    "                    dp[i][j] = dp[i-1][j-a[i-1]] or dp[i-1][j]\n",
    "                else:\n",
    "                    dp[i][j] = dp[i-1][j]\n",
    "                   \n",
    "        return dp[n][arraysum]\n",
    "       \n",
    "       \n",
    "       \n",
    "a = [3,3,1,1]\n",
    "\n",
    "print(equalSumPartision(a))\n"
   ]
  },
  {
   "cell_type": "markdown",
   "id": "8b979fb9",
   "metadata": {},
   "source": [
    "How many subset are present such that sum is queal to a number\n",
    "----------------"
   ]
  },
  {
   "cell_type": "code",
   "execution_count": 20,
   "id": "e7d85a4b",
   "metadata": {},
   "outputs": [
    {
     "name": "stdout",
     "output_type": "stream",
     "text": [
      "4\n"
     ]
    }
   ],
   "source": [
    "# Using memoization\n",
    "\n",
    "def helper(a,n,sum):\n",
    "    if sum==0:\n",
    "        return 1\n",
    "    if n==0:\n",
    "        return 0\n",
    "    if a[n-1]<=sum:\n",
    "        return  helper(a,n-1,sum-a[n-1]) + helper(a,n-1,sum)\n",
    "    else:\n",
    "        return helper(a,n-1,sum)\n",
    "   \n",
    "\n",
    "       \n",
    "a = [3,4,10,8,5,7,7,2]\n",
    "\n",
    "\n",
    "print(helper(a,len(a),7))"
   ]
  },
  {
   "cell_type": "markdown",
   "id": "bdc5bf45",
   "metadata": {},
   "source": [
    "Fractional KnapSack Problem\n",
    "-----------"
   ]
  },
  {
   "cell_type": "code",
   "execution_count": null,
   "id": "6f992f49",
   "metadata": {},
   "outputs": [],
   "source": []
  }
 ],
 "metadata": {
  "kernelspec": {
   "display_name": "Python 3",
   "language": "python",
   "name": "python3"
  },
  "language_info": {
   "codemirror_mode": {
    "name": "ipython",
    "version": 3
   },
   "file_extension": ".py",
   "mimetype": "text/x-python",
   "name": "python",
   "nbconvert_exporter": "python",
   "pygments_lexer": "ipython3",
   "version": "3.11.3"
  }
 },
 "nbformat": 4,
 "nbformat_minor": 5
}
