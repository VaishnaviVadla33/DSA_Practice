{
 "cells": [
  {
   "cell_type": "markdown",
   "id": "e72ca954",
   "metadata": {},
   "source": [
    "Creating Linked List\n",
    "-------------"
   ]
  },
  {
   "cell_type": "code",
   "execution_count": null,
   "id": "94ffa0d7",
   "metadata": {},
   "outputs": [
    {
     "name": "stdout",
     "output_type": "stream",
     "text": [
      "4->7->1->-76->123->"
     ]
    }
   ],
   "source": [
    "class Node:\n",
    "    def __init__(self,x):\n",
    "        self.data = x\n",
    "        self.next = None\n",
    "       \n",
    "def printData(head):\n",
    "    temp = head\n",
    "    while(temp != None):\n",
    "        print(temp.data,end='->')\n",
    "        temp = temp.next\n",
    "       \n",
    "def insertAtBeginning(head,val):\n",
    "    new_node = Node(val)\n",
    "    new_node.next = head\n",
    "    head = new_node\n",
    "    return head\n",
    "\n",
    "def insertAfterGivenData(head,data,val):\n",
    "    new_node = Node(val)\n",
    "    temp = head\n",
    "    while temp.data != data:\n",
    "        temp = temp.next\n",
    "    new_node.next = temp.next\n",
    "    temp.next = new_node\n",
    "   \n",
    "\n",
    "def insertAtEnd(head,val):\n",
    "    new_node = Node(val)\n",
    "    temp = head\n",
    "    while(temp.next != None):\n",
    "        temp = temp.next\n",
    "    temp.next = new_node\n",
    "\n",
    "def deleteNode(head,val):\n",
    "    temp = head\n",
    "    while temp.next.data != val:\n",
    "        temp = temp.next\n",
    "    temp.next = temp.next.next\n",
    "\n",
    "\n",
    "def deleteHead(head):\n",
    "    temp = head\n",
    "    head = temp.next\n",
    "    return head\n",
    "   \n",
    "def deleteLastNode(head):\n",
    "    temp = head\n",
    "    while temp.next.next != None:\n",
    "        temp = temp.next\n",
    "    temp.next = None\n",
    "   \n",
    "   \n",
    "\n",
    "a = Node(4)\n",
    "insertAtEnd(a,7)\n",
    "insertAtEnd(a,1)\n",
    "insertAtEnd(a,-76)\n",
    "insertAtEnd(a,21)\n",
    "insertAtEnd(a,11)\n",
    "a = insertAtBeginning(a,10)\n",
    "insertAfterGivenData(a,-76,123)\n",
    "deleteNode(a,21)\n",
    "a = deleteHead(a)\n",
    "deleteLastNode(a)\n",
    "printData(a)\n"
   ]
  },
  {
   "cell_type": "code",
   "execution_count": 7,
   "id": "d86e96d5",
   "metadata": {},
   "outputs": [
    {
     "name": "stdout",
     "output_type": "stream",
     "text": [
      "1 -> 2 -> 3 -> 4 -> 5 ->  \n",
      "1 -> 2 -> 3 -> 4 -> 5 -> "
     ]
    }
   ],
   "source": [
    "class Node:\n",
    "    def __init__(self,val):\n",
    "        self.data=val\n",
    "        self.next=None\n",
    "    def insertionAtEnd(self,head,val):\n",
    "        temp=head\n",
    "        newNode=Node(val)\n",
    "        while(temp.next != None):\n",
    "            temp=temp.next\n",
    "        temp.next=newNode\n",
    "    def insertAtBeginning(self,head,val):\n",
    "        newnode=Node(val)\n",
    "        newnode.next=head\n",
    "        head=newnode\n",
    "        return head\n",
    "\n",
    "    def printLinkedlist(self,head):\n",
    "        temp=head\n",
    "        while(temp !=None):\n",
    "            print(temp.data,\"->\",end=\" \")\n",
    "            temp=temp.next\n",
    "\n",
    "head=Node(1)\n",
    "head.insertionAtEnd(head,2)\n",
    "head.insertionAtEnd(head,3)\n",
    "head.insertionAtEnd(head,4)\n",
    "head.insertionAtEnd(head,5)\n",
    "head.printLinkedlist(head)\n",
    "print(\" \")\n",
    "head.insertAtBeginning(head,10)\n",
    "head.printLinkedlist(head)"
   ]
  },
  {
   "cell_type": "markdown",
   "id": "244c051c",
   "metadata": {},
   "source": [
    "Delete Without Head Pointer(SLL)\n",
    "-----------"
   ]
  },
  {
   "cell_type": "code",
   "execution_count": null,
   "id": "32aa0af2",
   "metadata": {},
   "outputs": [],
   "source": []
  },
  {
   "cell_type": "markdown",
   "id": "7c60743e",
   "metadata": {},
   "source": [
    "Finding Middle of the Node\n",
    "-----------"
   ]
  },
  {
   "cell_type": "code",
   "execution_count": null,
   "id": "19a3b4cf",
   "metadata": {},
   "outputs": [],
   "source": [
    "def getMiddle(self, head):\n",
    "    fast = head\n",
    "    slow = head\n",
    "    while fast != None and fast.next !=None:\n",
    "        fast=fast.next.next\n",
    "        slow=slow.next\n",
    "    return slow.data"
   ]
  },
  {
   "cell_type": "markdown",
   "id": "9a7d2ef8",
   "metadata": {},
   "source": [
    "**Finding first middle number if there are even number of nodes**"
   ]
  },
  {
   "cell_type": "code",
   "execution_count": null,
   "id": "74bd90f2",
   "metadata": {},
   "outputs": [],
   "source": [
    "def getMiddle(self, head):\n",
    "    fast = head\n",
    "    slow = head\n",
    "    while fast != None and fast.next !=None:\n",
    "        fast=fast.next.next\n",
    "        if fast != None:\n",
    "            slow=slow.next\n",
    "    return slow.data,slow.next"
   ]
  },
  {
   "cell_type": "markdown",
   "id": "290505ec",
   "metadata": {},
   "source": [
    "Complete code"
   ]
  },
  {
   "cell_type": "code",
   "execution_count": 2,
   "id": "dd5ee903",
   "metadata": {},
   "outputs": [
    {
     "name": "stdout",
     "output_type": "stream",
     "text": [
      "Linked List:\n",
      "1 -> 2 -> 3 -> 4 -> 5 -> 6 -> None\n",
      "\n",
      "Middle Node Data: 3\n",
      "Next Node Data: 4\n"
     ]
    }
   ],
   "source": [
    "class Node:\n",
    "    def __init__(self, data):\n",
    "        self.data = data\n",
    "        self.next = None\n",
    "\n",
    "class LinkedList:\n",
    "    def __init__(self):\n",
    "        self.head = None\n",
    "\n",
    "    def append(self, new_data):\n",
    "        new_node = Node(new_data)\n",
    "        if self.head is None:\n",
    "            self.head = new_node\n",
    "            return\n",
    "        temp = self.head\n",
    "        while temp.next:\n",
    "            temp = temp.next\n",
    "        temp.next = new_node\n",
    "\n",
    "    def printList(self):\n",
    "        temp = self.head\n",
    "        while temp:\n",
    "            print(temp.data, end=\" -> \")\n",
    "            temp = temp.next\n",
    "        print(\"None\")\n",
    "\n",
    "    def getMiddle(self, head):\n",
    "        fast = head\n",
    "        slow = head\n",
    "        while fast != None and fast.next != None:\n",
    "            fast = fast.next.next\n",
    "            if fast != None:\n",
    "                slow = slow.next\n",
    "        return slow.data, slow.next\n",
    "\n",
    "# Create LinkedList and insert 1->2->3->4->5->6\n",
    "llist = LinkedList()\n",
    "for i in range(1, 7):\n",
    "    llist.append(i)\n",
    "\n",
    "# Print the list\n",
    "print(\"Linked List:\")\n",
    "llist.printList()\n",
    "\n",
    "# Get and print middle node data and next node\n",
    "mid_data, next_node = llist.getMiddle(llist.head)\n",
    "print(\"\\nMiddle Node Data:\", mid_data)\n",
    "if next_node:\n",
    "    print(\"Next Node Data:\", next_node.data)\n",
    "else:\n",
    "    print(\"Next Node Data: None\")\n"
   ]
  },
  {
   "cell_type": "markdown",
   "id": "c31587b3",
   "metadata": {},
   "source": [
    "Check if given Linked list is circular or not\n",
    "----"
   ]
  },
  {
   "cell_type": "code",
   "execution_count": null,
   "id": "df868caf",
   "metadata": {},
   "outputs": [],
   "source": [
    "# Use 2 pointers/fast+slow, if slow and fast meets, then they are circular\n",
    "def isCircular(self,head):\n",
    "    temp=head\n",
    "    temp2=head\n",
    "    while temp!=None:\n",
    "        temp=temp.next\n",
    "        if temp == temp2:\n",
    "            return True\n",
    "    return False"
   ]
  },
  {
   "cell_type": "markdown",
   "id": "6f0b6f78",
   "metadata": {},
   "source": [
    "Check id given Linkde list contains anu loop\n",
    "----------"
   ]
  },
  {
   "cell_type": "code",
   "execution_count": null,
   "id": "4cab4852",
   "metadata": {},
   "outputs": [],
   "source": [
    "def detectLoop(self,head):\n",
    "    fast=head\n",
    "    slow=head\n",
    "    while fast!= None and fast.next != None:\n",
    "        fast=fast.next.next\n",
    "        slow=slow.next\n",
    "        if fast== slow:\n",
    "            return True\n",
    "    return False"
   ]
  },
  {
   "cell_type": "markdown",
   "id": "53ee4159",
   "metadata": {},
   "source": [
    "First point of Loop\n",
    "---------"
   ]
  },
  {
   "cell_type": "code",
   "execution_count": null,
   "id": "82d4b58d",
   "metadata": {},
   "outputs": [],
   "source": [
    "def findFirstNode(self, head):\n",
    "    fast=head\n",
    "    slow=head\n",
    "    while fast!= None and fast.next != None:\n",
    "        fast=fast.next.next\n",
    "        slow=slow.next\n",
    "        if fast== slow:\n",
    "            break\n",
    "    fast=head\n",
    "    while fast != slow:\n",
    "        if fast == None or slow == None:\n",
    "            return None\n",
    "        fast=fast.next\n",
    "        slow=slow.next\n",
    "    return fast"
   ]
  },
  {
   "cell_type": "markdown",
   "id": "4903cd94",
   "metadata": {},
   "source": [
    "Delete Loop\n",
    "----------"
   ]
  },
  {
   "cell_type": "code",
   "execution_count": null,
   "id": "ee5eefd7",
   "metadata": {},
   "outputs": [],
   "source": [
    "def removeLoop(self, head):\n",
    "    fast=head\n",
    "    slow=head\n",
    "    while fast!= None and fast.next != None:\n",
    "        fast=fast.next.next\n",
    "        slow=slow.next\n",
    "        if fast== slow:\n",
    "            break\n",
    "    if fast == None or fast.next == None:\n",
    "        return\n",
    "    if fast==head: #Separate case for circular linkedlist\n",
    "        while fast.next!=head:\n",
    "            fast=fast.next\n",
    "        fast.next=None\n",
    "        return\n",
    "    fast=head\n",
    "    \n",
    "    while fast.next != slow.next:\n",
    "        fast=fast.next\n",
    "        slow=slow.next\n",
    "    slow.next=None"
   ]
  },
  {
   "cell_type": "markdown",
   "id": "9c57f70f",
   "metadata": {},
   "source": [
    "Reverse the linked list\n",
    "--------------"
   ]
  },
  {
   "cell_type": "code",
   "execution_count": null,
   "id": "831e2099",
   "metadata": {},
   "outputs": [],
   "source": [
    "def reversList(head):\n",
    "    c=head\n",
    "    p=None\n",
    "    while c!=None:\n",
    "        n=c.next\n",
    "        c.next=p\n",
    "        p=c\n",
    "        c=n\n",
    "    return p"
   ]
  },
  {
   "cell_type": "code",
   "execution_count": null,
   "id": "21fd6569",
   "metadata": {},
   "outputs": [],
   "source": [
    "#Other method\n",
    "def abcd(head):\n",
    "    if head.next== None:\n",
    "        return head\n",
    "    n=abcd(head.next)\n",
    "    head.next.next=head\n",
    "    head.next=None\n",
    "    return n\n",
    "\n",
    "#n return last node"
   ]
  },
  {
   "cell_type": "markdown",
   "id": "81ea415d",
   "metadata": {},
   "source": [
    "Palindrome linked list using recursion\n",
    "-----"
   ]
  }
 ],
 "metadata": {
  "kernelspec": {
   "display_name": "Python 3",
   "language": "python",
   "name": "python3"
  },
  "language_info": {
   "codemirror_mode": {
    "name": "ipython",
    "version": 3
   },
   "file_extension": ".py",
   "mimetype": "text/x-python",
   "name": "python",
   "nbconvert_exporter": "python",
   "pygments_lexer": "ipython3",
   "version": "3.11.3"
  }
 },
 "nbformat": 4,
 "nbformat_minor": 5
}
