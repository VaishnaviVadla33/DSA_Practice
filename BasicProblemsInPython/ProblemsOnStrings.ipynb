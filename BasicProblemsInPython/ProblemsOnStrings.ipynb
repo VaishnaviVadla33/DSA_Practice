{
 "cells": [
  {
   "cell_type": "code",
   "execution_count": 9,
   "id": "28e65f4e",
   "metadata": {},
   "outputs": [
    {
     "name": "stdout",
     "output_type": "stream",
     "text": [
      "97\n",
      "a\n",
      "order of A 65\n",
      "order of Z 90\n",
      "order of a 97\n",
      "order of z 122\n"
     ]
    }
   ],
   "source": [
    "print(ord('a'))\n",
    "print(chr(97))\n",
    "\n",
    "print(\"order of A\",ord('A'))\n",
    "print(\"order of Z\",ord(\"Z\"))\n",
    "\n",
    "print(\"order of a\",ord('a'))\n",
    "print(\"order of z\",ord(\"z\"))"
   ]
  },
  {
   "cell_type": "code",
   "execution_count": 22,
   "id": "4a1831db",
   "metadata": {},
   "outputs": [
    {
     "name": "stdout",
     "output_type": "stream",
     "text": [
      "\u0003\n"
     ]
    }
   ],
   "source": [
    "print(chr(3))"
   ]
  },
  {
   "cell_type": "code",
   "execution_count": 21,
   "id": "92896d30",
   "metadata": {},
   "outputs": [
    {
     "name": "stdout",
     "output_type": "stream",
     "text": [
      "Capital Letter are: \n",
      "A B C D E F G H I J K L M N O P Q R S T U V W X Y Z  \n",
      "--------------------------------------------------\n",
      "Small Letter are: \n",
      "a b c d e f g h i j k l m n o p q r s t u v w x y z  \n",
      "--------------------------------------------------\n",
      "special characters are:\n",
      "[ \\ ] ^ _ `  \n",
      "--------------------------------------------------\n",
      "Numbers are: \n",
      "0 1 2 3 4 5 6 7 8 9  \n",
      "--------------------------------------------------\n"
     ]
    }
   ],
   "source": [
    "print(\"Capital Letter are: \")\n",
    "for i in range(65,91,1):\n",
    "    print(chr(i),end=\" \")\n",
    "print(\" \")\n",
    "print(\"-\"*50)\n",
    "print(\"Small Letter are: \")\n",
    "for i in range(97,123,1):\n",
    "    print(chr(i), end=\" \")\n",
    "print(\" \")\n",
    "print(\"-\"*50)\n",
    "print(\"special characters are:\")\n",
    "for i in range(91,97,1):\n",
    "    print(chr(i), end=\" \")\n",
    "print(\" \")\n",
    "print(\"-\"*50)\n",
    "print(\"Numbers are: \")\n",
    "for i in range(48,58,1):\n",
    "    print(chr(i), end=\" \")\n",
    "print(\" \")\n",
    "print(\"-\"*50)"
   ]
  },
  {
   "cell_type": "code",
   "execution_count": 43,
   "id": "60e9956f",
   "metadata": {},
   "outputs": [
    {
     "name": "stdout",
     "output_type": "stream",
     "text": [
      "0 :  \u0000|1 :  \u0001|2 :  \u0002|3 :  \u0003|4 :  \u0004|5 :  \u0005|6 :  \u0006|7 :  \u0007|8 : |9 :  \t|10 :  \n",
      "|14 :  \u000e|15 :  \u000f|16 :  \u0010|17 :  \u0011|18 :  \u0012|19 :  \u0013|20 :  \u0014|21 :  \u0015|22 :  \u0016|23 :  \u0017|24 :  \u0018|25 :  \u0019|26 :  \u001a|27 :  \u001b|28 :  \u001c|29 :  \u001d|30 :  \u001e|31 :  \u001f|32 :   |33 :  !|34 :  \"|35 :  #|36 :  $|37 :  %|38 :  &|39 :  '|40 :  (|41 :  )|42 :  *|43 :  +|44 :  ,|45 :  -|46 :  .|47 :  /|59 :  ;|60 :  <|61 :  =|62 :  >|63 :  ?|64 :  @|92 :  \\|93 :  ]|94 :  ^|95 :  _|96 :  `|124 :  ||125 :  }|126 :  ~|\u0000 \u0001 \u0002 \u0003 \u0004 \u0005 \u0006 \u0007 \t \n",
      " \u000e \u000f \u0010 \u0011 \u0012 \u0013 \u0014 \u0015 \u0016 \u0017 \u0018 \u0019 \u001a \u001b \u001c \u001d \u001e \u001f   ! \" # $ % & ' ( ) * + , - . / ; < = > ? @ [ \\ ] ^ _ ` { | } ~ "
     ]
    }
   ],
   "source": [
    "# for i in range(256):\n",
    "#     print(i,\": \",chr(i))\n",
    "for i in range(127):\n",
    "    if (i < 48) or (i >58 and i < 65) or (i > 91 and i < 97) or (i > 123) :\n",
    "        print(i,\": \", chr(i), end=\"|\")\n",
    "\n",
    "#Other way\n",
    "for i in range(127):\n",
    "    if (i< 97 or i>122) and (i< 65 or i > 90) and (i <48 or i> 58):\n",
    "        print(chr(i), end=\" \")"
   ]
  },
  {
   "cell_type": "markdown",
   "id": "3df2f1e6",
   "metadata": {},
   "source": [
    "Reverse String\n",
    "----------------\n",
    "Input: s = [\"h\",\"e\",\"l\",\"l\",\"o\"]\n",
    "Output: [\"o\",\"l\",\"l\",\"e\",\"h\"]"
   ]
  },
  {
   "cell_type": "code",
   "execution_count": 46,
   "id": "42f07c01",
   "metadata": {},
   "outputs": [
    {
     "data": {
      "text/plain": [
       "['o', 'l', 'l', 'e', 'h']"
      ]
     },
     "execution_count": 46,
     "metadata": {},
     "output_type": "execute_result"
    }
   ],
   "source": [
    "def reverseString(s):\n",
    "    i=0\n",
    "    j=len(s)-1\n",
    "    while(i<j):\n",
    "        s[i],s[j]=s[j],s[i]\n",
    "        i+=1\n",
    "        j-=1\n",
    "    return s\n",
    "\n",
    "l=[\"h\",\"e\",\"l\",\"l\",\"o\"]\n",
    "reverseString(l)"
   ]
  },
  {
   "cell_type": "markdown",
   "id": "6fe4c1d5",
   "metadata": {},
   "source": [
    "Palindrome\n",
    "---------"
   ]
  },
  {
   "cell_type": "code",
   "execution_count": 52,
   "id": "9402762d",
   "metadata": {},
   "outputs": [
    {
     "data": {
      "text/plain": [
       "True"
      ]
     },
     "execution_count": 52,
     "metadata": {},
     "output_type": "execute_result"
    }
   ],
   "source": [
    "#abc != cba\n",
    "\n",
    "def palindrome(s):\n",
    "    i=0\n",
    "    j=len(s)-1\n",
    "    while i<j:\n",
    "        if s[i]!=s[j]:\n",
    "            return False\n",
    "        i+=1\n",
    "        j-=1\n",
    "    return True\n",
    "    \n",
    "s='aba'\n",
    "palindrome(s)"
   ]
  },
  {
   "cell_type": "markdown",
   "id": "4a91478d",
   "metadata": {},
   "source": [
    "Finding Duplicates\n",
    "-----------------"
   ]
  },
  {
   "cell_type": "code",
   "execution_count": 54,
   "id": "0cff425e",
   "metadata": {},
   "outputs": [
    {
     "name": "stdout",
     "output_type": "stream",
     "text": [
      "97\n"
     ]
    }
   ],
   "source": [
    "print(ord(\"a\"))"
   ]
  },
  {
   "cell_type": "code",
   "execution_count": 71,
   "id": "e4458aa7",
   "metadata": {},
   "outputs": [
    {
     "name": "stdout",
     "output_type": "stream",
     "text": [
      "a\n",
      "z\n"
     ]
    }
   ],
   "source": [
    "print(chr(97)) \n",
    "print(chr(122)) "
   ]
  },
  {
   "cell_type": "code",
   "execution_count": 80,
   "id": "6d08c43c",
   "metadata": {},
   "outputs": [
    {
     "name": "stdout",
     "output_type": "stream",
     "text": [
      "l 3\n",
      "o 2\n"
     ]
    }
   ],
   "source": [
    "# Output, l --> 3\n",
    "# Output, 0 --> 2\n",
    "#Without Using dictinary\n",
    "\n",
    "def findingDuplicate(a):\n",
    "    l=[0]*26\n",
    "    for i in a:\n",
    "        if i>='a' and i<='z':\n",
    "            x=ord(i)-97\n",
    "            l[x]+=1\n",
    "    for i in range(len(l)):\n",
    "        if l[i]>1:\n",
    "            print(chr(i+97),l[i])\n",
    "a1=\"hello world\"\n",
    "findingDuplicate(a1)"
   ]
  },
  {
   "cell_type": "markdown",
   "id": "a684d2e6",
   "metadata": {},
   "source": [
    "Print Numbers based on Mobile ote pad sequence\n",
    "---------"
   ]
  },
  {
   "cell_type": "code",
   "execution_count": 35,
   "id": "7c2ce091",
   "metadata": {},
   "outputs": [
    {
     "name": "stdout",
     "output_type": "stream",
     "text": [
      "23\n"
     ]
    }
   ],
   "source": [
    "l1='2'\n",
    "l2='3'\n",
    "print(l1+l2)"
   ]
  },
  {
   "cell_type": "code",
   "execution_count": null,
   "id": "1dc37bc7",
   "metadata": {},
   "outputs": [
    {
     "name": "stdout",
     "output_type": "stream",
     "text": [
      "--------------------------------------------------\n",
      "\n",
      "4\n",
      "333\n",
      "4\n",
      "43334\n"
     ]
    }
   ],
   "source": [
    "dict1={'2':['a','b','c'],'3':['d','e','f'],'4':['g','h','i'],'5':['j','k','l'],'6':['m','n','o'],'7':['p','q','r','s'],'8':['t','u','v'],'9':['w','x','y','z']}\n",
    "# for i in dict1:\n",
    "#     print(i,dict1[i])\n",
    "# for i in dict1:\n",
    "#     l=list(dict1[i])\n",
    "#     for j in range(len(l)):\n",
    "#         print(l[j],\"->\",j,\"=>\",i)\n",
    "\n",
    "#print(\"-\"*50)\n",
    "s=\"gfg\"\n",
    "l1=''\n",
    "for z in s:\n",
    "    for i in dict1:\n",
    "        l=list(dict1[i])\n",
    "        for j in range(len(l)):\n",
    "            if l[j]==z:\n",
    "                print()\n",
    "                for x in range(j+1):\n",
    "                    #print(i,end=\"\")\n",
    "                    l1=l1+i\n",
    "print(\"\")\n",
    "print(l1)"
   ]
  },
  {
   "cell_type": "markdown",
   "id": "8851e29a",
   "metadata": {},
   "source": [
    "Second Most repeated string in a sequence\n",
    "-------------------"
   ]
  },
  {
   "cell_type": "code",
   "execution_count": null,
   "id": "09e89a4d",
   "metadata": {},
   "outputs": [
    {
     "name": "stdout",
     "output_type": "stream",
     "text": [
      "4 3\n"
     ]
    }
   ],
   "source": [
    "#Finding second max and index for list of elements\n",
    "a=[1,2,0,4,9,4,4,3]\n",
    "f_max=-1\n",
    "f_max_index=-1\n",
    "s_max=-1\n",
    "s_max_index=-1\n",
    "for i in range(len(a)):\n",
    "    if a[i]>f_max:\n",
    "        s_max=f_max\n",
    "        s_max_index=f_max_index\n",
    "        f_max=a[i]\n",
    "        f_max_index =i\n",
    "    elif a[i] > s_max and a[i] != f_max:\n",
    "        s_max = a[i]\n",
    "        s_max_index=i\n",
    "print(s_max,s_max_index)"
   ]
  },
  {
   "cell_type": "code",
   "execution_count": null,
   "id": "708fb876",
   "metadata": {},
   "outputs": [],
   "source": [
    "#Finding second max in dictinary\n",
    "def secondMax(arr,n):\n",
    "    d={}\n",
    "    for i in arr:\n",
    "        if i in d:\n",
    "            d[i]+=1\n",
    "        else:\n",
    "            d[i]=1\n",
    "            ## pending\n",
    "        \n"
   ]
  },
  {
   "cell_type": "markdown",
   "id": "7d982d2e",
   "metadata": {},
   "source": [
    "Roman Number to integer\n",
    "------------\n"
   ]
  },
  {
   "cell_type": "code",
   "execution_count": 71,
   "id": "b32ea58e",
   "metadata": {},
   "outputs": [
    {
     "name": "stdout",
     "output_type": "stream",
     "text": [
      "10\n",
      "I\n",
      "dict_keys(['I', 'V', 'X', 'L', 'C', 'D', 'M'])\n",
      "dict_items([('I', 1), ('V', 5), ('X', 10), ('L', 50), ('C', 100), ('D', 500), ('M', 1000)])\n"
     ]
    }
   ],
   "source": [
    "data={'I':1,'V':5,'X':10,'L':50,'C':100,'D':500,'M':1000}\n",
    "word='IIX'\n",
    "\n",
    "#len(word)\n",
    "print(data[word[2]]) #->1\n",
    "print(word[1]) #-> I\n",
    "print(data.keys())\n",
    "print(data.items())"
   ]
  },
  {
   "cell_type": "code",
   "execution_count": 81,
   "id": "244319e8",
   "metadata": {},
   "outputs": [
    {
     "name": "stdout",
     "output_type": "stream",
     "text": [
      "98\n"
     ]
    }
   ],
   "source": [
    "\n",
    "word='IIX'\n",
    "\n",
    "#len(word)\n",
    "# print(data[word[0]]) #->1\n",
    "# print(word[1]) #-> I\n",
    "# print(data.keys())\n",
    "# print(data.items())\n",
    "def RomanToNumber(word):\n",
    "    data={'I':1,'V':5,'X':10,'L':50,'C':100,'D':500,'M':1000}\n",
    "    sum=0\n",
    "    i=0\n",
    "    while i< len(word):\n",
    "        if i+1 < len(word):\n",
    "            if data[word[i]]>=data[word[i+1]]:\n",
    "                sum=sum+data[word[i]]\n",
    "                i=i+1\n",
    "            else:\n",
    "                sum=sum-data[word[i]]+data[word[i+1]]\n",
    "                i+=2\n",
    "        else:\n",
    "            sum=sum+data[word[i]]\n",
    "            break\n",
    "    return sum\n",
    "\n",
    "word='XCVIII'\n",
    "print(RomanToNumber(word))\n"
   ]
  },
  {
   "cell_type": "code",
   "execution_count": 85,
   "id": "32243d0d",
   "metadata": {},
   "outputs": [
    {
     "name": "stdout",
     "output_type": "stream",
     "text": [
      "12\n"
     ]
    }
   ],
   "source": [
    "#Other approch\n",
    "d = {\n",
    "    'I':1,'V':5,'X':10,'L':50,\n",
    "    'C':100,'D':500,'M':1000   }\n",
    "#s = input(\"Enter ROMAN Number\")\n",
    "s='XII'\n",
    "i = 0\n",
    "result = 0\n",
    "while i <len(s):\n",
    "    if i+1 < len(s):\n",
    "        if d[s[i]] < d[s[i+1]]:\n",
    "            result += d[s[i+1]]-d[s[i]]\n",
    "            i+=2\n",
    "        else:\n",
    "            result+=d[s[i]]\n",
    "            i+=1\n",
    "    else:\n",
    "        result+=d[s[i]]\n",
    "        break\n",
    "print(result)"
   ]
  },
  {
   "cell_type": "markdown",
   "id": "1b837299",
   "metadata": {},
   "source": [
    "Isomorphic String\n",
    "------------------"
   ]
  },
  {
   "cell_type": "code",
   "execution_count": 2,
   "id": "c7fbfb87",
   "metadata": {},
   "outputs": [
    {
     "data": {
      "text/plain": [
       "True"
      ]
     },
     "execution_count": 2,
     "metadata": {},
     "output_type": "execute_result"
    }
   ],
   "source": [
    "# Input: s1 = \"aab\", s2 = \"xxy\"\n",
    "# Output: true\n",
    "# Explanation: There are two different characters in aab and xxy, i.e a and b with frequency 2 and 1 respectively.\n",
    "s1='crtdo'\n",
    "s2='telgb'\n",
    "\n",
    "\n",
    "def isomorphicString(s1,s2):\n",
    "    if len(s1)!= len(s2):\n",
    "        return False\n",
    "    d={}\n",
    "    for i in range (len(s1)):\n",
    "        if s1[i] in d and d[s1[i]] != s2[i]:\n",
    "            return False\n",
    "        else:\n",
    "            d[s1[i]]= s2[i]\n",
    "    return True\n",
    "\n",
    "    \n",
    "isomorphicString(s1,s2)"
   ]
  },
  {
   "cell_type": "code",
   "execution_count": null,
   "id": "06fe35ec",
   "metadata": {},
   "outputs": [],
   "source": [
    "\n",
    "s1='axw'\n",
    "s2='xaz'\n",
    "\n",
    "s1='crtdo'\n",
    "s2='telgb'"
   ]
  },
  {
   "cell_type": "code",
   "execution_count": 116,
   "id": "edbbd58a",
   "metadata": {},
   "outputs": [
    {
     "data": {
      "text/plain": [
       "False"
      ]
     },
     "execution_count": 116,
     "metadata": {},
     "output_type": "execute_result"
    }
   ],
   "source": [
    "# Input: s1 = \"aab\", s2 = \"xxy\"\n",
    "# Output: true\n",
    "# Explanation: There are two different characters in aab and xxy, i.e a and b with frequency 2 and 1 respectively.\n",
    "s1='crtdo'\n",
    "s2='telgb'\n",
    "\n",
    "\n",
    "def isomorphicString(s1,s2):\n",
    "    d1={}\n",
    "    if len(s1)!= len(s2):\n",
    "        return False\n",
    "    else:\n",
    "        for i in range (len(s1)):\n",
    "            if s1[i] not in d1:\n",
    "                d1[s1[i]]=s2[i]\n",
    "                d1[s2[i]]=s1[i]\n",
    "            else:\n",
    "                if d1[s1[i]]==s2[i] and d1[s2[i]]==s1[i]:\n",
    "                    return True\n",
    "                else:\n",
    "                    return False\n",
    "\n",
    "    \n",
    "isomorphicString(s1,s2)"
   ]
  }
 ],
 "metadata": {
  "kernelspec": {
   "display_name": "Python 3",
   "language": "python",
   "name": "python3"
  },
  "language_info": {
   "codemirror_mode": {
    "name": "ipython",
    "version": 3
   },
   "file_extension": ".py",
   "mimetype": "text/x-python",
   "name": "python",
   "nbconvert_exporter": "python",
   "pygments_lexer": "ipython3",
   "version": "3.11.3"
  }
 },
 "nbformat": 4,
 "nbformat_minor": 5
}
